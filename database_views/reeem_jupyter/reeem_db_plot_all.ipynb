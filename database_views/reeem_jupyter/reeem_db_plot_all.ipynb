{
 "cells": [
  {
   "cell_type": "markdown",
   "metadata": {},
   "source": [
    "<img src=\"http://www.reeem.org/wp-content/uploads/2017/10/cropped-reeem-logo-transparent.png\" width=\"300\" style=\"float: left\">\n",
    "<img src=\"http://reiner-lemoine-institut.de//wp-content/uploads/2015/09/rlilogo.png\" width=\"100\" style=\"float: right\">"
   ]
  },
  {
   "cell_type": "markdown",
   "metadata": {},
   "source": [
    "# REEEM-DB - TIMESPanEU\n",
    "\n",
    "__copyright__ \t= \"© Reiner Lemoine Institut\" <br>\n",
    "__license__ \t= \"GNU Affero General Public License Version 3 (AGPL-3.0)\" <br>\n",
    "__url__ \t\t= \"https://www.gnu.org/licenses/agpl-3.0.en.html\" <br>\n",
    "__author__ \t\t= \"Ludwig Hülk\" <br>"
   ]
  },
  {
   "cell_type": "markdown",
   "metadata": {},
   "source": [
    "# Import"
   ]
  },
  {
   "cell_type": "code",
   "execution_count": 1,
   "metadata": {},
   "outputs": [
    {
     "data": {
      "text/html": [
       "        <script type=\"text/javascript\">\n",
       "        window.PlotlyConfig = {MathJaxConfig: 'local'};\n",
       "        if (window.MathJax) {MathJax.Hub.Config({SVG: {font: \"STIX-Web\"}});}\n",
       "        if (typeof require !== 'undefined') {\n",
       "        require.undef(\"plotly\");\n",
       "        requirejs.config({\n",
       "            paths: {\n",
       "                'plotly': ['https://cdn.plot.ly/plotly-latest.min']\n",
       "            }\n",
       "        });\n",
       "        require(['plotly'], function(Plotly) {\n",
       "            window._Plotly = Plotly;\n",
       "        });\n",
       "        }\n",
       "        </script>\n",
       "        "
      ]
     },
     "metadata": {},
     "output_type": "execute_result"
    }
   ],
   "source": [
    "# basic\n",
    "import sys\n",
    "import os\n",
    "import getpass\n",
    "import pandas as pd\n",
    "import numpy as np\n",
    "import json\n",
    "import pathlib\n",
    "from sqlalchemy import *\n",
    "# plot\n",
    "import matplotlib.pyplot as plt\n",
    "import matplotlib.ticker as mticker\n",
    "import plotly.graph_objs as go\n",
    "import plotly.offline as pltly\n",
    "import colorlover as cl\n",
    "import seaborn as sns\n",
    "# notebook\n",
    "from IPython.display import Image\n",
    "from IPython.core.display import HTML \n",
    "\n",
    "pltly.init_notebook_mode(connected=True)\n",
    "%matplotlib inline\n",
    "\n",
    "version = 'v0.2.0'\n",
    "project = 'REEEM'"
   ]
  },
  {
   "cell_type": "markdown",
   "metadata": {},
   "source": [
    "# Database Connection\n",
    "\n",
    "This function creates a database connection to the **reeem_db**.<br>\n",
    "The default user is **reeem_vis**, a user that has only read rights.\n",
    "\n",
    "This section establishes the database connection and asks for the **password**.<br>\n",
    "The username can be changed in the corresponding function above.<br>\n",
    "If you don't have a username or forgot your password please contact your database admins."
   ]
  },
  {
   "cell_type": "code",
   "execution_count": 2,
   "metadata": {},
   "outputs": [
    {
     "name": "stderr",
     "output_type": "stream",
     "text": [
      "/home/local/RL-INSTITUT/alexis.michaltsis/anaconda3/envs/reeem-vis/lib/python3.6/site-packages/ipykernel_launcher.py:12: UserWarning:\n",
      "\n",
      "The `stream` parameter of `getpass.getpass` will have no effect when using ipykernel\n",
      "\n"
     ]
    },
    {
     "name": "stdout",
     "output_type": "stream",
     "text": [
      "Please provide connection parameters to database:\n",
      "Hit [Enter] to take defaults\n",
      "password: ········\n",
      "Password correct! Database connection established.\n"
     ]
    }
   ],
   "source": [
    "def reeem_session():\n",
    "    \"\"\"SQLAlchemy session object with valid connection to reeem database\"\"\"\n",
    "    \n",
    "    print('Please provide connection parameters to database:\\n' +\n",
    "              'Hit [Enter] to take defaults')\n",
    "    host = '130.226.55.43' # input('host (default 130.226.55.43): ')\n",
    "    port = '5432' # input('port (default 5432): ')\n",
    "    database = 'reeem' # input(\"database name (default 'reeem'): \")\n",
    "    user = 'reeem_vis' # input('user (default postgres): ')\n",
    "    # password = input('password: ')\n",
    "    password = getpass.getpass(prompt='password: ',\n",
    "                                   stream=sys.stderr)\n",
    "    con = create_engine(\n",
    "            'postgresql://' + '%s:%s@%s:%s/%s' % (user,\n",
    "                                                  password,\n",
    "                                                  host,\n",
    "                                                  port,\n",
    "                                                  database)).connect()\n",
    "    print('Password correct! Database connection established.')\n",
    "    return con\n",
    "\n",
    "con = reeem_session()"
   ]
  },
  {
   "cell_type": "markdown",
   "metadata": {},
   "source": [
    "# Table Info"
   ]
  },
  {
   "cell_type": "code",
   "execution_count": 3,
   "metadata": {},
   "outputs": [
    {
     "name": "stdout",
     "output_type": "stream",
     "text": [
      "Database Schema: model_draft\n",
      "Input table: reeem_times_paneu_input\n",
      "Output table: reeem_times_paneu_output\n",
      "Created folder: times_paneu\n"
     ]
    }
   ],
   "source": [
    "# Database\n",
    "schema = 'model_draft'\n",
    "table_in = 'reeem_times_paneu_input'\n",
    "table_out = 'reeem_times_paneu_output'\n",
    "folder = 'times_paneu'\n",
    "\n",
    "pathlib.Path('data/'+folder).mkdir(parents=True, exist_ok=True) \n",
    "print(\"Database Schema:\", schema +'\\n'+ \"Input table:\", table_in +'\\n'+ \n",
    "      \"Output table:\", table_out +'\\n'+ \"Created folder:\", folder )"
   ]
  },
  {
   "cell_type": "markdown",
   "metadata": {},
   "source": [
    "## Database Query\n",
    "\n",
    "This section is used to query the database tables (**table_in** and **table_out**).<br>"
   ]
  },
  {
   "cell_type": "code",
   "execution_count": null,
   "metadata": {
    "scrolled": false
   },
   "outputs": [
    {
     "data": {
      "text/html": [
       "<div>\n",
       "<style scoped>\n",
       "    .dataframe tbody tr th:only-of-type {\n",
       "        vertical-align: middle;\n",
       "    }\n",
       "\n",
       "    .dataframe tbody tr th {\n",
       "        vertical-align: top;\n",
       "    }\n",
       "\n",
       "    .dataframe thead th {\n",
       "        text-align: right;\n",
       "    }\n",
       "</style>\n",
       "<table border=\"1\" class=\"dataframe\">\n",
       "  <thead>\n",
       "    <tr style=\"text-align: right;\">\n",
       "      <th></th>\n",
       "      <th>data</th>\n",
       "      <th>count</th>\n",
       "    </tr>\n",
       "  </thead>\n",
       "  <tbody>\n",
       "    <tr>\n",
       "      <th>0</th>\n",
       "      <td>In</td>\n",
       "      <td>1416968</td>\n",
       "    </tr>\n",
       "    <tr>\n",
       "      <th>1</th>\n",
       "      <td>Out</td>\n",
       "      <td>6132224</td>\n",
       "    </tr>\n",
       "  </tbody>\n",
       "</table>\n",
       "</div>"
      ],
      "text/plain": [
       "  data    count\n",
       "0   In  1416968\n",
       "1  Out  6132224"
      ]
     },
     "execution_count": 4,
     "metadata": {},
     "output_type": "execute_result"
    }
   ],
   "source": [
    "# Number of entries in table\n",
    "sql = text(\"\"\"\n",
    "    SELECT  'In' AS data, count(*) AS count\n",
    "    FROM    {0}.{1}\n",
    "    UNION ALL\n",
    "    SELECT  'Out' AS data, count(*) AS count\n",
    "    FROM    {0}.{2}\"\"\".format(schema, table_in, table_out))\n",
    "df_num = pd.read_sql_query(sql, con)\n",
    "df_num"
   ]
  },
  {
   "cell_type": "code",
   "execution_count": null,
   "metadata": {},
   "outputs": [],
   "source": [
    "# Number of doublets (scope > 1)\n",
    "sql = text(\"\"\"\n",
    "    SELECT amount AS scope, COUNT(*) AS quantity, amount * COUNT(*) AS total, (SELECT COUNT(*) AS amount FROM model_draft.reeem_times_paneu_input) AS all_records\n",
    "    FROM (SELECT \n",
    "        \"pathway\",\n",
    "        \"framework\",\n",
    "        \"version\",\n",
    "        \"schema\",\n",
    "        \"field\",\n",
    "        \"category\",\n",
    "        \"region\",\n",
    "        \"year\",\n",
    "        \"indicator\",\n",
    "        \"value\",\n",
    "        \"unit\",\n",
    "        \"aggregation\",\n",
    "        COUNT(*) AS amount\n",
    "    FROM {0}.{1}\n",
    "    GROUP BY\n",
    "        \"pathway\",\n",
    "        \"framework\",\n",
    "        \"version\",\n",
    "        \"schema\",\n",
    "        \"field\",\n",
    "        \"category\",\n",
    "        \"region\",\n",
    "        \"year\",\n",
    "        \"indicator\",\n",
    "        \"value\",\n",
    "        \"unit\",\n",
    "        \"aggregation\"\n",
    "    ORDER BY amount DESC) AS foo\n",
    "    GROUP BY scope\n",
    "    UNION ALL\n",
    "    SELECT amount AS scope, COUNT(*) AS quantity, amount * COUNT(*) AS total, (SELECT COUNT(*) AS amount FROM model_draft.reeem_times_paneu_input) AS all_records\n",
    "    FROM (SELECT \n",
    "        \"pathway\",\n",
    "        \"framework\",\n",
    "        \"version\",\n",
    "        \"schema\",\n",
    "        \"field\",\n",
    "        \"category\",\n",
    "        \"region\",\n",
    "        \"year\",\n",
    "        \"indicator\",\n",
    "        \"value\",\n",
    "        \"unit\",\n",
    "        \"aggregation\",\n",
    "        COUNT(*) AS amount\n",
    "    FROM {0}.{2}\n",
    "    GROUP BY\n",
    "        \"pathway\",\n",
    "        \"framework\",\n",
    "        \"version\",\n",
    "        \"schema\",\n",
    "        \"field\",\n",
    "        \"category\",\n",
    "        \"region\",\n",
    "        \"year\",\n",
    "        \"indicator\",\n",
    "        \"value\",\n",
    "        \"unit\",\n",
    "        \"aggregation\"\n",
    "    ORDER BY amount DESC) AS foo\n",
    "    GROUP BY scope\n",
    "\"\"\".format(schema, table_in, table_out))\n",
    "df_num = pd.read_sql_query(sql, con)\n",
    "df_num"
   ]
  },
  {
   "cell_type": "code",
   "execution_count": null,
   "metadata": {},
   "outputs": [],
   "source": [
    "# Pathways\n",
    "column = 'pathway' # id, pathway, version, region, year, indicator, category, value, unit\n",
    "sql = text(\"\"\"\n",
    "    SELECT  'In' AS data, {3}, count(*) AS count\n",
    "    FROM    {0}.{1}\n",
    "    GROUP BY {3} \n",
    "    UNION ALL \n",
    "    SELECT  'Out' AS data, {3}, count(*) AS count\n",
    "    FROM    {0}.{2}\n",
    "    GROUP BY {3} \n",
    "    ORDER BY {3}; \"\"\".format(schema, table_in, table_out, column))\n",
    "df_path = pd.read_sql_query(sql, con)\n",
    "df_path"
   ]
  },
  {
   "cell_type": "code",
   "execution_count": null,
   "metadata": {},
   "outputs": [],
   "source": [
    "hi = 'hi'\n",
    "hi"
   ]
  },
  {
   "cell_type": "code",
   "execution_count": null,
   "metadata": {},
   "outputs": [],
   "source": [
    "# Versions\n",
    "column = 'framework,pathway,version,updated' # id, pathway, version, region, year, indicator, category, value, unit\n",
    "sql = text(\"\"\"\n",
    "    SELECT  'In' AS data, {3}, count(*) AS count\n",
    "    FROM    {0}.{1}\n",
    "    GROUP BY {3} \n",
    "    UNION ALL \n",
    "    SELECT  'Out' AS data, {3}, count(*) AS count\n",
    "    FROM    {0}.{2}\n",
    "    GROUP BY {3} \n",
    "    ORDER BY updated,{3}; \"\"\".format(schema, table_in, table_out, column))\n",
    "df_ver = pd.read_sql_query(sql, con)\n",
    "df_ver"
   ]
  },
  {
   "cell_type": "code",
   "execution_count": null,
   "metadata": {},
   "outputs": [],
   "source": [
    "# Years\n",
    "column = 'year' # id, pathway, version, region, year, indicator, category, value, unit\n",
    "sql = text(\"\"\"\n",
    "    SELECT  'In' AS data, {3}, count(*) AS count\n",
    "    FROM    {0}.{1}\n",
    "    GROUP BY {3} \n",
    "    UNION ALL \n",
    "    SELECT  'Out' AS data, {3}, count(*) AS count\n",
    "    FROM    {0}.{2}\n",
    "    GROUP BY {3} \n",
    "    ORDER BY {3} ; \"\"\".format(schema, table_in, table_out, column))\n",
    "df_year = pd.read_sql_query(sql, con)\n",
    "df_year"
   ]
  },
  {
   "cell_type": "code",
   "execution_count": null,
   "metadata": {},
   "outputs": [],
   "source": [
    "# Regions\n",
    "column = 'region' # id, pathway, version, region, year, indicator, category, value, unit\n",
    "sql = text(\"\"\"\n",
    "    SELECT  'In' AS data, {3}, count(*) AS count\n",
    "    FROM    {0}.{1}\n",
    "    GROUP BY {3}\n",
    "    UNION ALL \n",
    "    SELECT  'Out' AS data, {3}, count(*) AS count\n",
    "    FROM    {0}.{2}\n",
    "    GROUP BY {3}; \"\"\".format(schema, table_in, table_out, column))\n",
    "df_reg = pd.read_sql_query(sql, con)\n",
    "df_reg"
   ]
  },
  {
   "cell_type": "code",
   "execution_count": null,
   "metadata": {},
   "outputs": [],
   "source": [
    "# Categories\n",
    "column = 'category' # id, pathway, version, region, year, indicator, category, value, unit\n",
    "sql = text(\"\"\"\n",
    "    SELECT  'In' AS data, {3}, count(*) AS count\n",
    "    FROM    {0}.{1}\n",
    "    GROUP BY {3} \n",
    "    UNION ALL \n",
    "    SELECT  'Out' AS data, {3}, count(*) AS count\n",
    "    FROM    {0}.{2}\n",
    "    GROUP BY {3}; \"\"\".format(schema, table_in, table_out, column))\n",
    "df_cat = pd.read_sql_query(sql, con)\n",
    "df_cat"
   ]
  },
  {
   "cell_type": "code",
   "execution_count": null,
   "metadata": {},
   "outputs": [],
   "source": [
    "# Indicators\n",
    "column = 'nid,category,indicator' # id, pathway, version, region, year, indicator, category, value, unit\n",
    "sql = text(\"\"\"\n",
    "    SELECT  'In' AS data, {3}, count(*) AS count\n",
    "    FROM    {0}.{1}\n",
    "    GROUP BY {3} \n",
    "    UNION ALL \n",
    "    SELECT  'Out' AS data, {3}, count(*) AS count\n",
    "    FROM    {0}.{2}\n",
    "    GROUP BY {3}\n",
    "    ORDER BY category, indicator, nid; \"\"\".format(schema, table_in, table_out, column))\n",
    "df_nind = pd.read_sql_query(sql, con)\n",
    "df_nind.index.names = ['rid']\n",
    "df_nind"
   ]
  },
  {
   "cell_type": "code",
   "execution_count": null,
   "metadata": {},
   "outputs": [],
   "source": [
    "# Indicators\n",
    "column = 'category,indicator' # id, pathway, version, region, year, indicator, category, value, unit\n",
    "sql = text(\"\"\"\n",
    "    SELECT  'In' AS data, {3}, count(*) AS count\n",
    "    FROM    {0}.{1}\n",
    "    GROUP BY {3} \n",
    "    UNION ALL \n",
    "    SELECT  'Out' AS data, {3}, count(*) AS count\n",
    "    FROM    {0}.{2}\n",
    "    GROUP BY {3}\n",
    "    ORDER BY category, indicator; \"\"\".format(schema, table_in, table_out, column))\n",
    "df_ind = pd.read_sql_query(sql, con)\n",
    "df_ind.index.names = ['rid']\n",
    "df_ind"
   ]
  },
  {
   "cell_type": "code",
   "execution_count": null,
   "metadata": {},
   "outputs": [],
   "source": [
    "# Write data as CSV file\n",
    "csvname = 'data/{0}/reeem_{0}_indicators.csv'.format(folder)\n",
    "df_ind.to_csv(csvname, sep=';')\n",
    "print(\"Data saved to file:\", csvname)"
   ]
  },
  {
   "cell_type": "code",
   "execution_count": null,
   "metadata": {},
   "outputs": [],
   "source": []
  },
  {
   "cell_type": "markdown",
   "metadata": {},
   "source": [
    "## Table metadata\n",
    "\n",
    "Access the metadata from the database tables and write metadata string as JSON file.<br>"
   ]
  },
  {
   "cell_type": "code",
   "execution_count": null,
   "metadata": {
    "scrolled": true
   },
   "outputs": [],
   "source": [
    "# Input Metadata\n",
    "sql = text(\"\"\"SELECT obj_description('{0}.{1}'::regclass);\"\"\".format(schema, table_in))\n",
    "meta_in = pd.read_sql_query(sql, con).loc[:,'obj_description'].iloc[0]\n",
    "print(meta_in)\n",
    "\n",
    "# Save data to JSON file\n",
    "fname_in = 'data/{0}/{1}_metadata.json'.format(folder, table_in)\n",
    "with open(fname_in, 'w') as metafile:\n",
    "    json.dump(json.loads(meta_in), metafile, indent=4)\n",
    "    print(\"Data saved to file:\", fname_in)"
   ]
  },
  {
   "cell_type": "code",
   "execution_count": null,
   "metadata": {},
   "outputs": [],
   "source": [
    "# Output Metadata\n",
    "sql = text(\"\"\"SELECT obj_description('{0}.{1}'::regclass);\"\"\".format(schema, table_out))\n",
    "meta_out = pd.read_sql_query(sql, con).loc[:,'obj_description'].iloc[0]\n",
    "print(meta_out)\n",
    "\n",
    "# Save data to JSON file\n",
    "fname_out = 'data/{0}/{1}_metadata.json'.format(folder, table_out)\n",
    "with open(fname_out, 'w') as metafile:\n",
    "    json.dump(json.loads(meta_out), metafile, indent=4)\n",
    "    print(\"Data saved to file:\", fname_out)"
   ]
  },
  {
   "cell_type": "code",
   "execution_count": null,
   "metadata": {},
   "outputs": [],
   "source": []
  },
  {
   "cell_type": "markdown",
   "metadata": {},
   "source": [
    "# View 1: One indicator for one region in one pathway over time\n",
    "## Database Query\n",
    "\n",
    "This section can be used to query one specific **indicator** (_filter 1_) for one specific **region** (_filter 2_) from one database table (_table_).<br>\n",
    "Indicators are identified by the **nid**.<br>\n",
    "It is possible to select one specific **pathway** (_filter 3_) and one specific data **version** (_filter 4_).<br>\n",
    "To querry additional coulmns from the database table add the names to the **SELECT** statement (_column_).<br>\n",
    "The sortation is done by the **ORDER BY** (_sorting_).<br>\n",
    "The result from the database is saved to a pandas.DataFrame (**df_1**) and can be printed."
   ]
  },
  {
   "cell_type": "code",
   "execution_count": null,
   "metadata": {},
   "outputs": [],
   "source": [
    "# Database select (SQL)\n",
    "sql = text(\"\"\"\n",
    "    SELECT  pathway, version, region, year, category, indicator, value, unit  -- column\n",
    "    FROM    {0}.{1}                               -- table\n",
    "    WHERE   category = 'NEW Capacities Public and Industrial Power Plants by Fuel and Technology_Wind'\n",
    "        AND indicator = 'Onshore'\n",
    "        AND region = 'EU28'                       -- filter 2\n",
    "        AND pathway = 'Base'                      -- filter 3\n",
    "        AND framework = 'FrameworkV1'              \n",
    "        AND version = 'DataV3'                    -- filter 4\n",
    "    ORDER BY pathway, version, year;              -- sorting \"\"\".format(schema, table_out))\n",
    "df_1 = pd.read_sql_query(sql, con)\n",
    "print(df_1)"
   ]
  },
  {
   "cell_type": "markdown",
   "metadata": {},
   "source": [
    "## Metadata\n",
    "\n",
    "The important information from the above select (**df_1**) is collected in a Dictionary (**info_dict_1**)."
   ]
  },
  {
   "cell_type": "code",
   "execution_count": null,
   "metadata": {},
   "outputs": [],
   "source": [
    "# Facts dict\n",
    "info_dict_1 = {}\n",
    "info_dict_1['Filename'] = ['{}_reeem_plot_1' .format(pd.to_datetime('today').strftime(\"%Y-%m-%d\"))]\n",
    "info_dict_1['Category'] = df_1.loc[:,'category'].unique()\n",
    "info_dict_1['Indicator'] = df_1.loc[:,'indicator'].unique()\n",
    "info_dict_1['Unit'] = df_1.loc[:,'unit'].unique()\n",
    "info_dict_1['Pathway'] = df_1.loc[:,'pathway'].unique()\n",
    "info_dict_1['Year'] = df_1.loc[:,'year'].unique().tolist()\n",
    "info_dict_1['Region'] = df_1.loc[:,'region'].unique()\n",
    "info_dict_1['Y-Axis'] = ['{} in {}'.format(*info_dict_1['Indicator'], *info_dict_1['Unit'])]\n",
    "info_dict_1['Title'] = ['{} in {}'.format(*info_dict_1['Category'], *info_dict_1['Region'])]\n",
    "info_dict_1['Metadata'] = meta_out\n",
    "\n",
    "# Print facts\n",
    "for x in info_dict_1:\n",
    "    print(x,':',info_dict_1[x])"
   ]
  },
  {
   "cell_type": "markdown",
   "metadata": {},
   "source": [
    "## Plot\n",
    "\n",
    "This is a basic plot with [matplotlib](https://matplotlib.org/).<br>\n",
    "The title and y-axis labels are taken from the **info_dict_1**. They can be exchanged with manual text."
   ]
  },
  {
   "cell_type": "code",
   "execution_count": null,
   "metadata": {},
   "outputs": [],
   "source": [
    "# Plot for one indicator and one pathway\n",
    "fig = plt.figure(figsize=(12, 5))\n",
    "ax = plt.subplot()\n",
    "# plt.title(r'CO2-Emissions in EU28', fontsize=16)  # Manual title\n",
    "plt.title(*info_dict_1['Title'], fontsize=16)         # Title from info\n",
    "# plt.ylabel(r'CO2-Emissions in Mt')                # Manual label\n",
    "plt.ylabel(*info_dict_1['Y-Axis'])                    # Label from info\n",
    "plt.plot(df_1.loc[:,'year'], df_1.loc[:,'value'], \n",
    "         marker=\"o\",  markersize=5)\n",
    "plt.legend(df_1.loc[:,'pathway'].unique())\n",
    "ax.set_ylim(ymin=0)"
   ]
  },
  {
   "cell_type": "markdown",
   "metadata": {},
   "source": [
    "## Interactive Plot\n",
    "\n",
    "This is a basic interactive plot with [Plotly](https://plot.ly/python/).<br>\n",
    "You can hover over the elements of the plot and observe the data."
   ]
  },
  {
   "cell_type": "code",
   "execution_count": null,
   "metadata": {},
   "outputs": [],
   "source": [
    "# Interactive plot for one indicator and one pathway\n",
    "data = [go.Scatter(\n",
    "    x = df_1.loc[:,'year'],\n",
    "    y = df_1.loc[:,'value'],\n",
    "    name = df_1.loc[:,'pathway'].unique())]\n",
    "\n",
    "# Set layout\n",
    "layout = go.Layout(\n",
    "    height=400, width = 800,\n",
    "    #title='CO2-Emissions in EU28',\n",
    "    title=''.join(info_dict_1['Title']),\n",
    "    # yaxis=dict(title='CO2-Emissions in Mt') )\n",
    "    yaxis=dict(title=''.join(info_dict_1['Y-Axis'])) )\n",
    "ifig = go.Figure(data=data, layout=layout)\n",
    "pltly.iplot(ifig)"
   ]
  },
  {
   "cell_type": "markdown",
   "metadata": {},
   "source": [
    "## Save results to files\n",
    "\n",
    "The results are saved to cooresponding files in a folder named **data**.<br>\n",
    "The **info_dict** is saved to a text file (txt).<br>\n",
    "The **data** is saved to a table (csv).<br>\n",
    "The **plot** is saved as an image (png).<br>\n",
    "The **interactive plot** is saved as a webpage (html). It will also open in a new tab of your browser."
   ]
  },
  {
   "cell_type": "code",
   "execution_count": null,
   "metadata": {},
   "outputs": [],
   "source": [
    "# Save plot as file\n",
    "plotname = ('data/' + str({0}) + '/' + str({1}) +'.png').format(folder, *info_dict_1['Filename'])\n",
    "fig.savefig(plotname, bbox_inches='tight')\n",
    "print(\"Plot saved to file:\", plotname)"
   ]
  },
  {
   "cell_type": "code",
   "execution_count": null,
   "metadata": {},
   "outputs": [],
   "source": [
    "# Write facts to textfile\n",
    "txtname = ('data/' + str({0}) + '/' + str({1}) +'.txt').format(folder, *info_dict_1['Filename'])\n",
    "with open(txtname,'w') as tfile:\n",
    "    for i in info_dict_1.keys():\n",
    "        tfile.write(i + \": \" + ', '.join([str(x) for x in info_dict_1[i]]) + \"\\n\")\n",
    "tfile.close()\n",
    "print(\"Facts saved to file:\", txtname)\n",
    "\n",
    "# Save data to CSV\n",
    "csvname = ('data/' + str({0}) + '/' + str({1}) +'.csv').format(folder, *info_dict_1['Filename'])\n",
    "df_1.to_csv(csvname, sep=';')\n",
    "print(\"Data saved to file:\", csvname)\n",
    "\n",
    "# Save plot as file\n",
    "plotname = ('data/' + str({0}) + '/' + str({1}) +'.png').format(folder, *info_dict_1['Filename'])\n",
    "fig.savefig(plotname, bbox_inches='tight')\n",
    "print(\"Plot saved to file:\", plotname)\n",
    "\n",
    "# Save interactive plot\n",
    "htmlname = ('data/' + str({0}) + '/' + str({1}) +'.html').format(folder, *info_dict_1['Filename'])\n",
    "pltly.plot(ifig, filename=htmlname)\n",
    "print(\"Interactive plot saved to file:\", htmlname)"
   ]
  },
  {
   "cell_type": "code",
   "execution_count": null,
   "metadata": {},
   "outputs": [],
   "source": []
  },
  {
   "cell_type": "markdown",
   "metadata": {},
   "source": [
    "# View 2: One indicator for one region in different pathways over time\n",
    "## Database Query\n",
    "\n",
    "This section can be used to query one specific **indicator** (_filter 1_) for one specific **region** (_filter 2_) from one database table (_table_).<br>\n",
    "Indicators are identified by the **nid**.<br>\n",
    "It is possible to select one specific **pathway** (_filter 3_) and one specific data **version** (_filter 4_).<br>\n",
    "To querry additional coulmns from the database table add the names to the **SELECT** statement (_column_).<br>\n",
    "The sortation is done by the **ORDER BY** (_sorting_).<br>\n",
    "The result from the database is saved to a pandas.DataFrame (**df_2**) and can be printed."
   ]
  },
  {
   "cell_type": "code",
   "execution_count": null,
   "metadata": {},
   "outputs": [],
   "source": [
    "# Database select (SQL)\n",
    "sql = text(\"\"\"\n",
    "    SELECT  pathway, version, region, year, category, indicator, value, unit  -- column\n",
    "    FROM    {0}.{1}                               -- table\n",
    "    WHERE   category = 'NEW Capacities Public and Industrial Power Plants by Fuel and Technology_Wind'\n",
    "        AND indicator = 'Onshore'\n",
    "        AND region = 'EU28'                       -- filter 2\n",
    "        AND (pathway = 'Base' \n",
    "            OR pathway = 'HighRES')                       -- filter 3\n",
    "        AND framework = 'FrameworkV1'              \n",
    "        AND version = 'DataV3'                    -- filter 4\n",
    "    ORDER BY pathway, version, year;              -- sorting \"\"\".format(schema, table_out))\n",
    "df_2 = pd.read_sql_query(sql, con)\n",
    "print(df_2)"
   ]
  },
  {
   "cell_type": "code",
   "execution_count": null,
   "metadata": {},
   "outputs": [],
   "source": [
    "# Facts dict\n",
    "info_dict_2 = {}\n",
    "info_dict_2['Filename'] = ['{}_reeem_plot_2' .format(pd.to_datetime('today').strftime(\"%Y-%m-%d\"))]\n",
    "info_dict_2['Category'] = df_2.loc[:,'category'].unique()\n",
    "info_dict_2['Indicator'] = df_2.loc[:,'indicator'].unique()\n",
    "info_dict_2['Unit'] = df_2.loc[:,'unit'].unique()\n",
    "info_dict_2['Pathway'] = df_2.loc[:,'pathway'].unique()\n",
    "info_dict_2['Year'] = df_2.loc[:,'year'].unique().tolist()\n",
    "info_dict_2['Region'] = df_2.loc[:,'region'].unique()\n",
    "info_dict_2['Y-Axis'] = ['{} in {}'.format(*info_dict_2['Indicator'], *info_dict_2['Unit'])]\n",
    "info_dict_2['Title'] = ['{} in {}'.format(*info_dict_2['Category'], *info_dict_2['Region'])]\n",
    "# ToDo: Select metadata string from database table and also add!\n",
    "\n",
    "# Print facts\n",
    "for x in info_dict_2:\n",
    "    print(x,':',info_dict_2[x])"
   ]
  },
  {
   "cell_type": "markdown",
   "metadata": {},
   "source": [
    "## Stack data\n",
    "\n",
    "This pivot function reorganises the data and makes each pathway a column. The year is used as the index.<br>\n",
    "The result is saved to a new dataframe (**df_2p**) and can be printed."
   ]
  },
  {
   "cell_type": "code",
   "execution_count": null,
   "metadata": {},
   "outputs": [],
   "source": [
    "# Reshape dataframe\n",
    "df_2p = df_2.pivot(index='year', columns='pathway',  values='value')\n",
    "# print (df_2p)"
   ]
  },
  {
   "cell_type": "markdown",
   "metadata": {},
   "source": [
    "## Plot\n",
    "\n",
    "This is a basic plot with [matplotlib](https://matplotlib.org/).<br>\n",
    "The title and y-axis labels are taken from the **info_dict_2**. They can be exchanged with manual text."
   ]
  },
  {
   "cell_type": "code",
   "execution_count": null,
   "metadata": {},
   "outputs": [],
   "source": [
    "# Plot for one indicator and one pathway\n",
    "fig_2 = plt.figure(figsize=(12, 5))\n",
    "ax = plt.subplot()\n",
    "# plt.title(r'CO2-Emissions in EU28', fontsize=16)  # Manual title\n",
    "plt.title(*info_dict_2['Title'], fontsize=16)         # Title from info\n",
    "# plt.ylabel(r'CO2-Emissions in Mt')                # Manual label\n",
    "plt.ylabel(*info_dict_2['Y-Axis'])                    # Label from info\n",
    "plt.plot(df_2p, \n",
    "         marker=\"o\",  markersize=5)\n",
    "plt.legend(df_2p)\n",
    "ax.set_ylim(ymin=0)"
   ]
  },
  {
   "cell_type": "markdown",
   "metadata": {},
   "source": [
    "## Interactive Plot\n",
    "\n",
    "This is a basic interactive plot with [Plotly](https://plot.ly/python/).<br>\n",
    "You can hover over the elements of the plot and observe the data.<br>\n",
    "The different pathways can be switched on and off."
   ]
  },
  {
   "cell_type": "code",
   "execution_count": null,
   "metadata": {},
   "outputs": [],
   "source": [
    "# Iterate over pathways and add to data\n",
    "pathways = df_2.loc[:,'pathway'].unique()\n",
    "data = []\n",
    "for pathway in pathways:\n",
    "    data.append(go.Scatter(\n",
    "        x = df_2.loc[df_2['pathway'] == pathway].loc[:,'year'],\n",
    "        y = df_2.loc[df_2['pathway'] == pathway].loc[:,'value'],\n",
    "        name = pathway))\n",
    "\n",
    "# Set layout\n",
    "layout = go.Layout(\n",
    "    height=400, width = 800,\n",
    "    #title='CO2-Emissions in EU28',\n",
    "    title=''.join(info_dict_2['Title']),\n",
    "    # yaxis=dict(title='CO2-Emissions in Mt') )\n",
    "    yaxis=dict(title=''.join(info_dict_2['Y-Axis'])) )\n",
    "ifig = go.Figure(data=data, layout=layout)\n",
    "pltly.iplot(ifig)"
   ]
  },
  {
   "cell_type": "markdown",
   "metadata": {},
   "source": [
    "## Interactive Plot 2\n",
    "\n",
    "This is the manual interactive version.<br>\n",
    "You can control the design using the [plotly documentation](https://plot.ly/python/line-and-scatter/#line-and-scatter-plots)."
   ]
  },
  {
   "cell_type": "code",
   "execution_count": null,
   "metadata": {},
   "outputs": [],
   "source": [
    "data = [go.Scatter(x=df_2.loc[df_2['pathway'] == 'Base'].loc[:,'year'],\n",
    "                   y=df_2.loc[df_2['pathway'] == 'Base'].loc[:,'value'],\n",
    "                   mode='lines+markers',\n",
    "                   line=dict(color='black', dash='none', width='2'),\n",
    "                   marker=dict(symbol='o', size=8, line=dict(width=2, color='black')),\n",
    "                   name='Base'\n",
    "                  ),\n",
    "        go.Scatter(x=df_2.loc[df_2['pathway'] == 'HighRES'].loc[:,'year'],\n",
    "                   y=df_2.loc[df_2['pathway'] == 'HighRES'].loc[:,'value'],\n",
    "                   mode='lines+markers',\n",
    "                   line=dict(color='green', dash='', width='2'),\n",
    "                   marker=dict(symbol='o', size=5, line=dict(width=2, color='black')),\n",
    "                   name='HighRES'\n",
    "                  ),\n",
    "        go.Scatter(x=df_2.loc[df_2['pathway'] == 'StorageInnov'].loc[:,'year'],\n",
    "                   y=df_2.loc[df_2['pathway'] == 'StorageInnov'].loc[:,'value'],\n",
    "                   line=dict(color='red', dash='dash', width='2'),\n",
    "                   marker=dict(symbol='o', size=5, line=dict(width=2, color='black')),\n",
    "                   name='StorageInnov'\n",
    "                  )\n",
    "       ]\n",
    "layout = go.Layout(\n",
    "    height=400, width = 800,\n",
    "    #title='CO2-Emissions in EU28',\n",
    "    title=''.join(info_dict_2['Title']),\n",
    "    # yaxis=dict(title='CO2-Emissions in Mt') )\n",
    "    yaxis=dict(title=''.join(info_dict_2['Y-Axis'])) )\n",
    "ifig2 = go.Figure(data=data, layout=layout)\n",
    "pltly.iplot(ifig2)"
   ]
  },
  {
   "cell_type": "markdown",
   "metadata": {},
   "source": [
    "## Save results to files\n",
    "\n",
    "The results are saved to cooresponding files in a folder named **data**.<br>\n",
    "The **info_dict** is saved to a text file (txt).<br>\n",
    "The **data** is saved to a table (csv).<br>\n",
    "The **plot** is saved as an image (png).<br>\n",
    "The **interactive plot** is saved as a webpage (html). It will also open in a new tab of your browser.<br>"
   ]
  },
  {
   "cell_type": "code",
   "execution_count": null,
   "metadata": {},
   "outputs": [],
   "source": [
    "# Write facts to textfile\n",
    "filename = ('data/{}.txt').format(*info_dict_2['Filename'])\n",
    "with open(filename,'w') as tfile:\n",
    "    for i in info_dict_2.keys():\n",
    "        tfile.write(i + \": \" + ', '.join([str(x) for x in info_dict_2[i]]) + \"\\n\")\n",
    "tfile.close()\n",
    "print(\"Facts saved to file:\", filename)\n",
    "\n",
    "# Save data to CSV\n",
    "csvname = 'data/{}.csv' .format(*info_dict_2['Filename'])\n",
    "df_2.to_csv(csvname, sep=';')\n",
    "print(\"Data saved to file:\", csvname)\n",
    "\n",
    "# Save pivot data to CSV\n",
    "csvname = 'data/{}_pivot.csv' .format(*info_dict_2['Filename'])\n",
    "df_2p.to_csv(csvname, sep=';')\n",
    "print(\"Data saved to file:\", csvname)\n",
    "\n",
    "# Save plot as file\n",
    "plotname = 'data/{}.png' .format(*info_dict_2['Filename'])\n",
    "fig_2.savefig(plotname, bbox_inches='tight')\n",
    "print(\"Plot saved to file:\", plotname)\n",
    "\n",
    "# Save interactive plot\n",
    "htmlname = 'data/{}.html' .format(*info_dict_2['Filename'])\n",
    "pltly.plot(ifig, filename=htmlname)\n",
    "print(\"Interactive plot saved to file:\", htmlname)\n",
    "\n",
    "# Save interactive plot 2\n",
    "htmlname = 'data/{}_2.html' .format(*info_dict_2['Filename'])\n",
    "pltly.plot(ifig2, filename=htmlname)\n",
    "print(\"Interactive plot saved to file:\", htmlname)"
   ]
  },
  {
   "cell_type": "code",
   "execution_count": null,
   "metadata": {},
   "outputs": [],
   "source": []
  },
  {
   "cell_type": "markdown",
   "metadata": {},
   "source": [
    "# Download one pathway"
   ]
  },
  {
   "cell_type": "code",
   "execution_count": null,
   "metadata": {},
   "outputs": [],
   "source": [
    "# Database select (SQL)\n",
    "sql = text(\"\"\"\n",
    "    SELECT  *\n",
    "    FROM    {0}.{1}\n",
    "    WHERE   pathway = 'Base' \n",
    "            AND framework = 'FrameworkV1'              \n",
    "            AND version = 'DataV3'\n",
    "    ORDER BY nid, year;\"\"\".format(schema, table_out))\n",
    "df_all = pd.read_sql_query(sql, con)\n",
    "print(df_all)"
   ]
  },
  {
   "cell_type": "code",
   "execution_count": null,
   "metadata": {},
   "outputs": [],
   "source": [
    "# Reshape dataframe\n",
    "df_allp = df_all.pivot(index='year', columns='pathway',  values='value')\n",
    "print (df_allp)"
   ]
  },
  {
   "cell_type": "markdown",
   "metadata": {},
   "source": [
    "# Logging"
   ]
  },
  {
   "cell_type": "code",
   "execution_count": null,
   "metadata": {},
   "outputs": [],
   "source": [
    "%%javascript\n",
    "var nb = IPython.notebook;\n",
    "var kernel = IPython.notebook.kernel;\n",
    "var command = \"nb_name = '\" + nb.notebook_path + \"'\";\n",
    "kernel.execute(command);"
   ]
  },
  {
   "cell_type": "code",
   "execution_count": null,
   "metadata": {},
   "outputs": [],
   "source": [
    "print(nb_name)"
   ]
  },
  {
   "cell_type": "code",
   "execution_count": null,
   "metadata": {},
   "outputs": [],
   "source": [
    "# Database select (SQL)\n",
    "sql = text(\"\"\"\n",
    "    -- scenario log (project,version,io,schema_name,table_name,script_name,comment)\n",
    "    SELECT scenario_log('REEEM','v0.3.0','view','{0}','{1}','{2}',' ');\n",
    "    \"\"\".format(schema, table_out, nb_name))\n",
    "df_2 = pd.read_sql_query(sql, con)\n",
    "print(df_2)"
   ]
  },
  {
   "cell_type": "code",
   "execution_count": null,
   "metadata": {},
   "outputs": [],
   "source": []
  }
 ],
 "metadata": {
  "kernelspec": {
   "display_name": "Python 3",
   "language": "python",
   "name": "python3"
  },
  "language_info": {
   "codemirror_mode": {
    "name": "ipython",
    "version": 3
   },
   "file_extension": ".py",
   "mimetype": "text/x-python",
   "name": "python",
   "nbconvert_exporter": "python",
   "pygments_lexer": "ipython3",
   "version": "3.6.7"
  }
 },
 "nbformat": 4,
 "nbformat_minor": 2
}
