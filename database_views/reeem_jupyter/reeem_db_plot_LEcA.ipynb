{
 "cells": [
  {
   "cell_type": "markdown",
   "metadata": {},
   "source": [
    "<img src=\"http://www.reeem.org/wp-content/uploads/2017/10/cropped-reeem-logo-transparent.png\" width=\"300\" style=\"float: left\">\n",
    "<img src=\"http://reiner-lemoine-institut.de//wp-content/uploads/2015/09/rlilogo.png\" width=\"100\" style=\"float: right\">"
   ]
  },
  {
   "cell_type": "markdown",
   "metadata": {},
   "source": [
    "# REEEM-DB - LEcA\n",
    "\n",
    "__copyright__ \t= \"© Reiner Lemoine Institut\" <br>\n",
    "__license__ \t= \"GNU Affero General Public License Version 3 (AGPL-3.0)\" <br>\n",
    "__url__ \t\t= \"https://www.gnu.org/licenses/agpl-3.0.en.html\" <br>\n",
    "__author__ \t\t= \"Ludwig Hülk\""
   ]
  },
  {
   "cell_type": "markdown",
   "metadata": {},
   "source": [
    "# Import"
   ]
  },
  {
   "cell_type": "code",
   "execution_count": 1,
   "metadata": {},
   "outputs": [
    {
     "data": {
      "text/html": [
       "<script>requirejs.config({paths: { 'plotly': ['https://cdn.plot.ly/plotly-latest.min']},});if(!window.Plotly) {{require(['plotly'],function(plotly) {window.Plotly=plotly;});}}</script>"
      ],
      "text/vnd.plotly.v1+html": [
       "<script>requirejs.config({paths: { 'plotly': ['https://cdn.plot.ly/plotly-latest.min']},});if(!window.Plotly) {{require(['plotly'],function(plotly) {window.Plotly=plotly;});}}</script>"
      ]
     },
     "metadata": {},
     "output_type": "display_data"
    }
   ],
   "source": [
    "# basic\n",
    "import sys\n",
    "import os\n",
    "import getpass\n",
    "import pandas as pd\n",
    "import numpy as np\n",
    "import json\n",
    "import pathlib\n",
    "from sqlalchemy import *\n",
    "# plot\n",
    "import matplotlib.pyplot as plt\n",
    "import matplotlib.ticker as mticker\n",
    "import plotly.graph_objs as go\n",
    "import plotly.offline as pltly\n",
    "import colorlover as cl\n",
    "import seaborn as sns\n",
    "# notebook\n",
    "from IPython.display import Image\n",
    "from IPython.core.display import HTML \n",
    "\n",
    "pltly.init_notebook_mode(connected=True)\n",
    "%matplotlib inline\n",
    "\n",
    "version = 'v0.2.0'\n",
    "project = 'REEEM'"
   ]
  },
  {
   "cell_type": "markdown",
   "metadata": {},
   "source": [
    "# Database Connection\n",
    "\n",
    "This function creates a database connection to the **reeem_db**.<br>\n",
    "The default user is **reeem_vis**, a user that has only read rights.\n",
    "\n",
    "This section establishes the database connection and asks for the **password**.<br>\n",
    "The username can be changed in the corresponding function above.<br>\n",
    "If you don't have a username or forgot your password please contact your database admins."
   ]
  },
  {
   "cell_type": "code",
   "execution_count": 2,
   "metadata": {},
   "outputs": [
    {
     "name": "stderr",
     "output_type": "stream",
     "text": [
      "C:\\Anaconda3\\envs\\reeem-vis\\lib\\site-packages\\ipykernel_launcher.py:12: UserWarning:\n",
      "\n",
      "The `stream` parameter of `getpass.getpass` will have no effect when using ipykernel\n",
      "\n"
     ]
    },
    {
     "name": "stdout",
     "output_type": "stream",
     "text": [
      "Please provide connection parameters to database:\n",
      "Hit [Enter] to take defaults\n",
      "password: ········\n",
      "Password correct! Database connection established.\n"
     ]
    }
   ],
   "source": [
    "def reeem_session():\n",
    "    \"\"\"SQLAlchemy session object with valid connection to reeem database\"\"\"\n",
    "    \n",
    "    print('Please provide connection parameters to database:\\n' +\n",
    "              'Hit [Enter] to take defaults')\n",
    "    host = '130.226.55.43' # input('host (default 130.226.55.43): ')\n",
    "    port = '5432' # input('port (default 5432): ')\n",
    "    database = 'reeem' # input(\"database name (default 'reeem'): \")\n",
    "    user = 'reeem_vis' # input('user (default postgres): ')\n",
    "    # password = input('password: ')\n",
    "    password = getpass.getpass(prompt='password: ',\n",
    "                                   stream=sys.stderr)\n",
    "    con = create_engine(\n",
    "            'postgresql://' + '%s:%s@%s:%s/%s' % (user,\n",
    "                                                  password,\n",
    "                                                  host,\n",
    "                                                  port,\n",
    "                                                  database)).connect()\n",
    "    print('Password correct! Database connection established.')\n",
    "    return con\n",
    "\n",
    "con = reeem_session()"
   ]
  },
  {
   "cell_type": "markdown",
   "metadata": {},
   "source": [
    "# Table Info"
   ]
  },
  {
   "cell_type": "code",
   "execution_count": 3,
   "metadata": {},
   "outputs": [
    {
     "name": "stdout",
     "output_type": "stream",
     "text": [
      "Database Schema: model_draft\n",
      "Input table: reeem_leca_input\n",
      "Output table: reeem_leca_output\n",
      "Created folder: leca\n"
     ]
    }
   ],
   "source": [
    "# Database\n",
    "schema = 'model_draft'\n",
    "table_in = 'reeem_leca_input'\n",
    "table_out = 'reeem_leca_output'\n",
    "folder = 'leca'\n",
    "\n",
    "pathlib.Path('data/'+folder).mkdir(parents=True, exist_ok=True) \n",
    "print(\"Database Schema:\", schema +'\\n'+ \"Input table:\", table_in +'\\n'+ \n",
    "      \"Output table:\", table_out +'\\n'+ \"Created folder:\", folder )"
   ]
  },
  {
   "cell_type": "markdown",
   "metadata": {},
   "source": [
    "## Database Query\n",
    "\n",
    "This section is used to query the database tables (**table_in** and **table_out**).<br>"
   ]
  },
  {
   "cell_type": "code",
   "execution_count": 5,
   "metadata": {},
   "outputs": [
    {
     "data": {
      "text/html": [
       "<div>\n",
       "<style scoped>\n",
       "    .dataframe tbody tr th:only-of-type {\n",
       "        vertical-align: middle;\n",
       "    }\n",
       "\n",
       "    .dataframe tbody tr th {\n",
       "        vertical-align: top;\n",
       "    }\n",
       "\n",
       "    .dataframe thead th {\n",
       "        text-align: right;\n",
       "    }\n",
       "</style>\n",
       "<table border=\"1\" class=\"dataframe\">\n",
       "  <thead>\n",
       "    <tr style=\"text-align: right;\">\n",
       "      <th></th>\n",
       "      <th>data</th>\n",
       "      <th>count</th>\n",
       "    </tr>\n",
       "  </thead>\n",
       "  <tbody>\n",
       "    <tr>\n",
       "      <th>0</th>\n",
       "      <td>In</td>\n",
       "      <td>0</td>\n",
       "    </tr>\n",
       "    <tr>\n",
       "      <th>1</th>\n",
       "      <td>Out</td>\n",
       "      <td>160</td>\n",
       "    </tr>\n",
       "  </tbody>\n",
       "</table>\n",
       "</div>"
      ],
      "text/plain": [
       "  data  count\n",
       "0   In      0\n",
       "1  Out    160"
      ]
     },
     "execution_count": 5,
     "metadata": {},
     "output_type": "execute_result"
    }
   ],
   "source": [
    "# Number of entries in table\n",
    "sql = text(\"\"\"\n",
    "    SELECT  'In' AS data, count(*) AS count\n",
    "    FROM    {0}.{1}\n",
    "    UNION ALL\n",
    "    SELECT  'Out' AS data, count(*) AS count\n",
    "    FROM    {0}.{2}\"\"\".format(schema, table_in, table_out))\n",
    "df_num = pd.read_sql_query(sql, con)\n",
    "df_num"
   ]
  },
  {
   "cell_type": "code",
   "execution_count": 6,
   "metadata": {},
   "outputs": [
    {
     "data": {
      "text/html": [
       "<div>\n",
       "<style scoped>\n",
       "    .dataframe tbody tr th:only-of-type {\n",
       "        vertical-align: middle;\n",
       "    }\n",
       "\n",
       "    .dataframe tbody tr th {\n",
       "        vertical-align: top;\n",
       "    }\n",
       "\n",
       "    .dataframe thead th {\n",
       "        text-align: right;\n",
       "    }\n",
       "</style>\n",
       "<table border=\"1\" class=\"dataframe\">\n",
       "  <thead>\n",
       "    <tr style=\"text-align: right;\">\n",
       "      <th></th>\n",
       "      <th>data</th>\n",
       "      <th>pathway</th>\n",
       "      <th>count</th>\n",
       "    </tr>\n",
       "  </thead>\n",
       "  <tbody>\n",
       "    <tr>\n",
       "      <th>0</th>\n",
       "      <td>Out</td>\n",
       "      <td>BASE</td>\n",
       "      <td>160</td>\n",
       "    </tr>\n",
       "  </tbody>\n",
       "</table>\n",
       "</div>"
      ],
      "text/plain": [
       "  data pathway  count\n",
       "0  Out    BASE    160"
      ]
     },
     "execution_count": 6,
     "metadata": {},
     "output_type": "execute_result"
    }
   ],
   "source": [
    "# Pathways\n",
    "column = 'pathway' # id, pathway, version, region, year, indicator, category, value, unit\n",
    "sql = text(\"\"\"\n",
    "    SELECT  'In' AS data, {3}, count(*) AS count\n",
    "    FROM    {0}.{1}\n",
    "    GROUP BY {3} \n",
    "    UNION ALL \n",
    "    SELECT  'Out' AS data, {3}, count(*) AS count\n",
    "    FROM    {0}.{2}\n",
    "    GROUP BY {3} \n",
    "    ORDER BY {3}; \"\"\".format(schema, table_in, table_out, column))\n",
    "df_path = pd.read_sql_query(sql, con)\n",
    "df_path"
   ]
  },
  {
   "cell_type": "code",
   "execution_count": 7,
   "metadata": {},
   "outputs": [
    {
     "data": {
      "text/html": [
       "<div>\n",
       "<style scoped>\n",
       "    .dataframe tbody tr th:only-of-type {\n",
       "        vertical-align: middle;\n",
       "    }\n",
       "\n",
       "    .dataframe tbody tr th {\n",
       "        vertical-align: top;\n",
       "    }\n",
       "\n",
       "    .dataframe thead th {\n",
       "        text-align: right;\n",
       "    }\n",
       "</style>\n",
       "<table border=\"1\" class=\"dataframe\">\n",
       "  <thead>\n",
       "    <tr style=\"text-align: right;\">\n",
       "      <th></th>\n",
       "      <th>data</th>\n",
       "      <th>pathway</th>\n",
       "      <th>version</th>\n",
       "      <th>count</th>\n",
       "    </tr>\n",
       "  </thead>\n",
       "  <tbody>\n",
       "    <tr>\n",
       "      <th>0</th>\n",
       "      <td>Out</td>\n",
       "      <td>BASE</td>\n",
       "      <td>DataV2</td>\n",
       "      <td>160</td>\n",
       "    </tr>\n",
       "  </tbody>\n",
       "</table>\n",
       "</div>"
      ],
      "text/plain": [
       "  data pathway version  count\n",
       "0  Out    BASE  DataV2    160"
      ]
     },
     "execution_count": 7,
     "metadata": {},
     "output_type": "execute_result"
    }
   ],
   "source": [
    "# Versions\n",
    "column = 'pathway,version' # id, pathway, version, region, year, indicator, category, value, unit\n",
    "sql = text(\"\"\"\n",
    "    SELECT  'In' AS data, {3}, count(*) AS count\n",
    "    FROM    {0}.{1}\n",
    "    GROUP BY {3} \n",
    "    UNION ALL \n",
    "    SELECT  'Out' AS data, {3}, count(*) AS count\n",
    "    FROM    {0}.{2}\n",
    "    GROUP BY {3} \n",
    "    ORDER BY {3}; \"\"\".format(schema, table_in, table_out, column))\n",
    "df_ver = pd.read_sql_query(sql, con)\n",
    "df_ver"
   ]
  },
  {
   "cell_type": "code",
   "execution_count": 8,
   "metadata": {},
   "outputs": [
    {
     "data": {
      "text/html": [
       "<div>\n",
       "<style scoped>\n",
       "    .dataframe tbody tr th:only-of-type {\n",
       "        vertical-align: middle;\n",
       "    }\n",
       "\n",
       "    .dataframe tbody tr th {\n",
       "        vertical-align: top;\n",
       "    }\n",
       "\n",
       "    .dataframe thead th {\n",
       "        text-align: right;\n",
       "    }\n",
       "</style>\n",
       "<table border=\"1\" class=\"dataframe\">\n",
       "  <thead>\n",
       "    <tr style=\"text-align: right;\">\n",
       "      <th></th>\n",
       "      <th>data</th>\n",
       "      <th>year</th>\n",
       "      <th>count</th>\n",
       "    </tr>\n",
       "  </thead>\n",
       "  <tbody>\n",
       "    <tr>\n",
       "      <th>0</th>\n",
       "      <td>Out</td>\n",
       "      <td>2016</td>\n",
       "      <td>8</td>\n",
       "    </tr>\n",
       "    <tr>\n",
       "      <th>1</th>\n",
       "      <td>Out</td>\n",
       "      <td>2020</td>\n",
       "      <td>8</td>\n",
       "    </tr>\n",
       "    <tr>\n",
       "      <th>2</th>\n",
       "      <td>Out</td>\n",
       "      <td>2025</td>\n",
       "      <td>8</td>\n",
       "    </tr>\n",
       "    <tr>\n",
       "      <th>3</th>\n",
       "      <td>Out</td>\n",
       "      <td>2030</td>\n",
       "      <td>8</td>\n",
       "    </tr>\n",
       "    <tr>\n",
       "      <th>4</th>\n",
       "      <td>Out</td>\n",
       "      <td>2035</td>\n",
       "      <td>8</td>\n",
       "    </tr>\n",
       "    <tr>\n",
       "      <th>5</th>\n",
       "      <td>Out</td>\n",
       "      <td>2040</td>\n",
       "      <td>8</td>\n",
       "    </tr>\n",
       "    <tr>\n",
       "      <th>6</th>\n",
       "      <td>Out</td>\n",
       "      <td>2045</td>\n",
       "      <td>8</td>\n",
       "    </tr>\n",
       "    <tr>\n",
       "      <th>7</th>\n",
       "      <td>Out</td>\n",
       "      <td>2050</td>\n",
       "      <td>8</td>\n",
       "    </tr>\n",
       "    <tr>\n",
       "      <th>8</th>\n",
       "      <td>Out</td>\n",
       "      <td>2055</td>\n",
       "      <td>8</td>\n",
       "    </tr>\n",
       "    <tr>\n",
       "      <th>9</th>\n",
       "      <td>Out</td>\n",
       "      <td>2060</td>\n",
       "      <td>8</td>\n",
       "    </tr>\n",
       "    <tr>\n",
       "      <th>10</th>\n",
       "      <td>Out</td>\n",
       "      <td>2065</td>\n",
       "      <td>8</td>\n",
       "    </tr>\n",
       "    <tr>\n",
       "      <th>11</th>\n",
       "      <td>Out</td>\n",
       "      <td>2070</td>\n",
       "      <td>8</td>\n",
       "    </tr>\n",
       "    <tr>\n",
       "      <th>12</th>\n",
       "      <td>Out</td>\n",
       "      <td>2075</td>\n",
       "      <td>8</td>\n",
       "    </tr>\n",
       "    <tr>\n",
       "      <th>13</th>\n",
       "      <td>Out</td>\n",
       "      <td>2080</td>\n",
       "      <td>8</td>\n",
       "    </tr>\n",
       "    <tr>\n",
       "      <th>14</th>\n",
       "      <td>Out</td>\n",
       "      <td>2085</td>\n",
       "      <td>8</td>\n",
       "    </tr>\n",
       "    <tr>\n",
       "      <th>15</th>\n",
       "      <td>Out</td>\n",
       "      <td>2090</td>\n",
       "      <td>8</td>\n",
       "    </tr>\n",
       "    <tr>\n",
       "      <th>16</th>\n",
       "      <td>Out</td>\n",
       "      <td>2095</td>\n",
       "      <td>8</td>\n",
       "    </tr>\n",
       "    <tr>\n",
       "      <th>17</th>\n",
       "      <td>Out</td>\n",
       "      <td>2100</td>\n",
       "      <td>8</td>\n",
       "    </tr>\n",
       "    <tr>\n",
       "      <th>18</th>\n",
       "      <td>Out</td>\n",
       "      <td>2105</td>\n",
       "      <td>8</td>\n",
       "    </tr>\n",
       "    <tr>\n",
       "      <th>19</th>\n",
       "      <td>Out</td>\n",
       "      <td>2110</td>\n",
       "      <td>8</td>\n",
       "    </tr>\n",
       "  </tbody>\n",
       "</table>\n",
       "</div>"
      ],
      "text/plain": [
       "   data  year  count\n",
       "0   Out  2016      8\n",
       "1   Out  2020      8\n",
       "2   Out  2025      8\n",
       "3   Out  2030      8\n",
       "4   Out  2035      8\n",
       "5   Out  2040      8\n",
       "6   Out  2045      8\n",
       "7   Out  2050      8\n",
       "8   Out  2055      8\n",
       "9   Out  2060      8\n",
       "10  Out  2065      8\n",
       "11  Out  2070      8\n",
       "12  Out  2075      8\n",
       "13  Out  2080      8\n",
       "14  Out  2085      8\n",
       "15  Out  2090      8\n",
       "16  Out  2095      8\n",
       "17  Out  2100      8\n",
       "18  Out  2105      8\n",
       "19  Out  2110      8"
      ]
     },
     "execution_count": 8,
     "metadata": {},
     "output_type": "execute_result"
    }
   ],
   "source": [
    "# Years\n",
    "column = 'year' # id, pathway, version, region, year, indicator, category, value, unit\n",
    "sql = text(\"\"\"\n",
    "    SELECT  'In' AS data, {3}, count(*) AS count\n",
    "    FROM    {0}.{1}\n",
    "    GROUP BY {3} \n",
    "    UNION ALL \n",
    "    SELECT  'Out' AS data, {3}, count(*) AS count\n",
    "    FROM    {0}.{2}\n",
    "    GROUP BY {3} \n",
    "    ORDER BY {3} ; \"\"\".format(schema, table_in, table_out, column))\n",
    "df_year = pd.read_sql_query(sql, con)\n",
    "df_year"
   ]
  },
  {
   "cell_type": "code",
   "execution_count": 9,
   "metadata": {},
   "outputs": [
    {
     "data": {
      "text/html": [
       "<div>\n",
       "<style scoped>\n",
       "    .dataframe tbody tr th:only-of-type {\n",
       "        vertical-align: middle;\n",
       "    }\n",
       "\n",
       "    .dataframe tbody tr th {\n",
       "        vertical-align: top;\n",
       "    }\n",
       "\n",
       "    .dataframe thead th {\n",
       "        text-align: right;\n",
       "    }\n",
       "</style>\n",
       "<table border=\"1\" class=\"dataframe\">\n",
       "  <thead>\n",
       "    <tr style=\"text-align: right;\">\n",
       "      <th></th>\n",
       "      <th>data</th>\n",
       "      <th>region</th>\n",
       "      <th>count</th>\n",
       "    </tr>\n",
       "  </thead>\n",
       "  <tbody>\n",
       "    <tr>\n",
       "      <th>0</th>\n",
       "      <td>Out</td>\n",
       "      <td>Lithuania</td>\n",
       "      <td>160</td>\n",
       "    </tr>\n",
       "  </tbody>\n",
       "</table>\n",
       "</div>"
      ],
      "text/plain": [
       "  data     region  count\n",
       "0  Out  Lithuania    160"
      ]
     },
     "execution_count": 9,
     "metadata": {},
     "output_type": "execute_result"
    }
   ],
   "source": [
    "# Regions\n",
    "column = 'region' # id, pathway, version, region, year, indicator, category, value, unit\n",
    "sql = text(\"\"\"\n",
    "    SELECT  'In' AS data, {3}, count(*) AS count\n",
    "    FROM    {0}.{1}\n",
    "    GROUP BY {3}\n",
    "    UNION ALL \n",
    "    SELECT  'Out' AS data, {3}, count(*) AS count\n",
    "    FROM    {0}.{2}\n",
    "    GROUP BY {3}; \"\"\".format(schema, table_in, table_out, column))\n",
    "df_reg = pd.read_sql_query(sql, con)\n",
    "df_reg"
   ]
  },
  {
   "cell_type": "code",
   "execution_count": 10,
   "metadata": {},
   "outputs": [
    {
     "data": {
      "text/html": [
       "<div>\n",
       "<style scoped>\n",
       "    .dataframe tbody tr th:only-of-type {\n",
       "        vertical-align: middle;\n",
       "    }\n",
       "\n",
       "    .dataframe tbody tr th {\n",
       "        vertical-align: top;\n",
       "    }\n",
       "\n",
       "    .dataframe thead th {\n",
       "        text-align: right;\n",
       "    }\n",
       "</style>\n",
       "<table border=\"1\" class=\"dataframe\">\n",
       "  <thead>\n",
       "    <tr style=\"text-align: right;\">\n",
       "      <th></th>\n",
       "      <th>data</th>\n",
       "      <th>category</th>\n",
       "      <th>count</th>\n",
       "    </tr>\n",
       "  </thead>\n",
       "  <tbody>\n",
       "    <tr>\n",
       "      <th>0</th>\n",
       "      <td>Out</td>\n",
       "      <td>assessment</td>\n",
       "      <td>160</td>\n",
       "    </tr>\n",
       "  </tbody>\n",
       "</table>\n",
       "</div>"
      ],
      "text/plain": [
       "  data    category  count\n",
       "0  Out  assessment    160"
      ]
     },
     "execution_count": 10,
     "metadata": {},
     "output_type": "execute_result"
    }
   ],
   "source": [
    "# Categories\n",
    "column = 'category' # id, pathway, version, region, year, indicator, category, value, unit\n",
    "sql = text(\"\"\"\n",
    "    SELECT  'In' AS data, {3}, count(*) AS count\n",
    "    FROM    {0}.{1}\n",
    "    GROUP BY {3} \n",
    "    UNION ALL \n",
    "    SELECT  'Out' AS data, {3}, count(*) AS count\n",
    "    FROM    {0}.{2}\n",
    "    GROUP BY {3}; \"\"\".format(schema, table_in, table_out, column))\n",
    "df_cat = pd.read_sql_query(sql, con)\n",
    "df_cat"
   ]
  },
  {
   "cell_type": "code",
   "execution_count": 11,
   "metadata": {},
   "outputs": [
    {
     "data": {
      "text/html": [
       "<div>\n",
       "<style scoped>\n",
       "    .dataframe tbody tr th:only-of-type {\n",
       "        vertical-align: middle;\n",
       "    }\n",
       "\n",
       "    .dataframe tbody tr th {\n",
       "        vertical-align: top;\n",
       "    }\n",
       "\n",
       "    .dataframe thead th {\n",
       "        text-align: right;\n",
       "    }\n",
       "</style>\n",
       "<table border=\"1\" class=\"dataframe\">\n",
       "  <thead>\n",
       "    <tr style=\"text-align: right;\">\n",
       "      <th></th>\n",
       "      <th>data</th>\n",
       "      <th>nid</th>\n",
       "      <th>category</th>\n",
       "      <th>indicator</th>\n",
       "      <th>count</th>\n",
       "    </tr>\n",
       "    <tr>\n",
       "      <th>rid</th>\n",
       "      <th></th>\n",
       "      <th></th>\n",
       "      <th></th>\n",
       "      <th></th>\n",
       "      <th></th>\n",
       "    </tr>\n",
       "  </thead>\n",
       "  <tbody>\n",
       "    <tr>\n",
       "      <th>0</th>\n",
       "      <td>Out</td>\n",
       "      <td>1</td>\n",
       "      <td>assessment</td>\n",
       "      <td>bioenergy supply</td>\n",
       "      <td>40</td>\n",
       "    </tr>\n",
       "    <tr>\n",
       "      <th>1</th>\n",
       "      <td>Out</td>\n",
       "      <td>2</td>\n",
       "      <td>assessment</td>\n",
       "      <td>Carbon Storage</td>\n",
       "      <td>40</td>\n",
       "    </tr>\n",
       "    <tr>\n",
       "      <th>2</th>\n",
       "      <td>Out</td>\n",
       "      <td>4</td>\n",
       "      <td>assessment</td>\n",
       "      <td>Habitat Area</td>\n",
       "      <td>40</td>\n",
       "    </tr>\n",
       "    <tr>\n",
       "      <th>3</th>\n",
       "      <td>Out</td>\n",
       "      <td>3</td>\n",
       "      <td>assessment</td>\n",
       "      <td>Recreation Area</td>\n",
       "      <td>40</td>\n",
       "    </tr>\n",
       "  </tbody>\n",
       "</table>\n",
       "</div>"
      ],
      "text/plain": [
       "    data  nid    category         indicator  count\n",
       "rid                                               \n",
       "0    Out    1  assessment  bioenergy supply     40\n",
       "1    Out    2  assessment    Carbon Storage     40\n",
       "2    Out    4  assessment      Habitat Area     40\n",
       "3    Out    3  assessment   Recreation Area     40"
      ]
     },
     "execution_count": 11,
     "metadata": {},
     "output_type": "execute_result"
    }
   ],
   "source": [
    "# Indicators\n",
    "column = 'nid,category,indicator' # id, pathway, version, region, year, indicator, category, value, unit\n",
    "sql = text(\"\"\"\n",
    "    SELECT  'In' AS data, {3}, count(*) AS count\n",
    "    FROM    {0}.{1}\n",
    "    GROUP BY {3} \n",
    "    UNION ALL \n",
    "    SELECT  'Out' AS data, {3}, count(*) AS count\n",
    "    FROM    {0}.{2}\n",
    "    GROUP BY {3}\n",
    "    ORDER BY category, indicator, nid; \"\"\".format(schema, table_in, table_out, column))\n",
    "df_ind = pd.read_sql_query(sql, con)\n",
    "df_ind.index.names = ['rid']\n",
    "df_ind"
   ]
  },
  {
   "cell_type": "code",
   "execution_count": 12,
   "metadata": {},
   "outputs": [
    {
     "name": "stdout",
     "output_type": "stream",
     "text": [
      "Data saved to file: data/leca/reeem_leca_indicators.csv\n"
     ]
    }
   ],
   "source": [
    "# Write data as CSV file\n",
    "csvname = 'data/{0}/reeem_{0}_indicators.csv'.format(folder)\n",
    "df_ind.to_csv(csvname, sep=';')\n",
    "print(\"Data saved to file:\", csvname)"
   ]
  },
  {
   "cell_type": "code",
   "execution_count": null,
   "metadata": {},
   "outputs": [],
   "source": []
  },
  {
   "cell_type": "markdown",
   "metadata": {},
   "source": [
    "## Table metadata\n",
    "\n",
    "Access the metadata from the database tables and write metadata string as JSON file.<br>"
   ]
  },
  {
   "cell_type": "code",
   "execution_count": 13,
   "metadata": {},
   "outputs": [
    {
     "name": "stdout",
     "output_type": "stream",
     "text": [
      "{\"title\": \"REEEM LEcA Input\",\n",
      "    \"description\": \"\",\n",
      "    \"language\": [ \"eng\" ],\n",
      "    \"spatial\": \n",
      "        {\"location\": \"none\",\n",
      "        \"extent\": \"Lithuania\",\n",
      "        \"resolution\": \"none\"},\n",
      "    \"temporal\": \n",
      "        {\"reference_date\": \"2016\",\n",
      "        \"start\": \"2016\",\n",
      "        \"end\": \"2110\",\n",
      "        \"resolution\": \"5 years\"},\n",
      "    \"sources\": [\n",
      "        {\"name\": \"MESSAGE\",\n",
      "        \"description\": \"Biomass demands \",\n",
      "        \"url\": \"none\",\n",
      "        \"license\": \"none\",\n",
      "        \"copyright\": \"none\"} ],\n",
      "    \"license\":\n",
      "        {\"id\": \"tba\",\n",
      "        \"name\": \"tba\",\n",
      "        \"version\": \"tba\",\n",
      "        \"url\": \"tba\",\n",
      "        \"instruction\": \"tba\",\n",
      "        \"copyright\": \"tba\"},\n",
      "    \"contributors\": [\n",
      "        {\"name\": \"Ludee\", \"email\": \"none\", \"date\": \"2018-11-12\", \"comment\": \"Create table and metadata\"}],\n",
      "    \"resources\": [\n",
      "        {\"name\": \"model_draft.reeem_leca_input\",\n",
      "        \"format\": \"PostgreSQL\",\n",
      "        \"fields\": [\n",
      "            {\"name\": \"id\", \"description\": \"Unique identifier\", \"unit\": \"none\"},\n",
      "            {\"name\": \"nid\", \"description\": \"Row id\", \"unit\": \"none\"},\n",
      "            {\"name\": \"dfid\", \"description\": \"Internal dataframe id\", \"unit\": \"none\"},\n",
      "            {\"name\": \"pathway\", \"description\": \"REEEM pathway\", \"unit\": \"none\"},\n",
      "            {\"name\": \"framework\", \"description\": \"REEEM framework\", \"unit\": \"none\"},\n",
      "            {\"name\": \"version\", \"description\": \"REEEM version\", \"unit\": \"none\"},\n",
      "            {\"name\": \"region\", \"description\": \"Country or region\", \"unit\": \"none\"},\n",
      "            {\"name\": \"year\", \"description\": \"Year\", \"unit\": \"none\"},\n",
      "            {\"name\": \"category\", \"description\": \"2. classification\", \"unit\": \"none\"},\n",
      "            {\"name\": \"indicator\", \"description\": \"Parameter name\", \"unit\": \"none\"},\n",
      "            {\"name\": \"value\", \"description\": \"Parameter value\", \"unit\": \"unit\"},\n",
      "            {\"name\": \"unit\", \"description\": \"Parameter unit\", \"unit\": \"none\"},\n",
      "            {\"name\": \"aggregation\", \"description\": \"True if aggregated\", \"unit\": \"none\"},\n",
      "            {\"name\": \"tags\", \"description\": \"Free classification\", \"unit\": \"none\"},\n",
      "            {\"name\": \"updated\", \"description\": \"Timestamp\", \"unit\": \"none\"} ] } ],\n",
      "    \"metadata_version\": \"1.3\"}\n",
      "Data saved to file: data/leca/reeem_leca_input_metadata.json\n"
     ]
    }
   ],
   "source": [
    "# Input Metadata\n",
    "sql = text(\"\"\"SELECT obj_description('{0}.{1}'::regclass);\"\"\".format(schema, table_in))\n",
    "meta_in = pd.read_sql_query(sql, con).loc[:,'obj_description'].iloc[0]\n",
    "print(meta_in)\n",
    "\n",
    "# Save data to JSON file\n",
    "fname_in = 'data/{0}/{1}_metadata.json'.format(folder, table_in)\n",
    "with open(fname_in, 'w') as metafile:\n",
    "    json.dump(json.loads(meta_in), metafile, indent=4)\n",
    "    print(\"Data saved to file:\", fname_in)"
   ]
  },
  {
   "cell_type": "code",
   "execution_count": 14,
   "metadata": {},
   "outputs": [
    {
     "name": "stdout",
     "output_type": "stream",
     "text": [
      "{\"title\": \"REEEM LEcA Output\",\n",
      "    \"description\": \"Bioenergy supply and impacts on other ecosystem services\",\n",
      "    \"language\": [ \"eng\" ],\n",
      "    \"spatial\": \n",
      "        {\"location\": \"none\",\n",
      "        \"extent\": \"Lithuania\",\n",
      "        \"resolution\": \"25 m x 25 m\"},\n",
      "    \"temporal\": \n",
      "        {\"reference_date\": \"2016\",\n",
      "        \"start\": \"2016\",\n",
      "        \"end\": \"2110\",\n",
      "        \"resolution\": \"5 years\"},\n",
      "    \"sources\": [\n",
      "        {\"name\": \"MESSAGE\",\n",
      "        \"description\": \"Biomass demands \",\n",
      "        \"url\": \"none\",\n",
      "        \"license\": \"none\",\n",
      "        \"copyright\": \"none\"} ],\n",
      "    \"license\":\n",
      "        {\"id\": \"tba\",\n",
      "        \"name\": \"tba\",\n",
      "        \"version\": \"tba\",\n",
      "        \"url\": \"tba\",\n",
      "        \"instruction\": \"tba\",\n",
      "        \"copyright\": \"tba\"},\n",
      "    \"contributors\": [\n",
      "        {\"name\": \"Ludee\", \"email\": \"none\", \"date\": \"2018-11-12\", \"comment\": \"Create table and metadata\"}],\n",
      "    \"resources\": [\n",
      "        {\"name\": \"model_draft.reeem_leca_output\",\n",
      "        \"format\": \"PostgreSQL\",\n",
      "        \"fields\": [\n",
      "            {\"name\": \"id\", \"description\": \"Unique identifier\", \"unit\": \"none\"},\n",
      "            {\"name\": \"nid\", \"description\": \"Row id\", \"unit\": \"none\"},\n",
      "            {\"name\": \"pathway\", \"description\": \"REEEM pathway\", \"unit\": \"none\"},\n",
      "            {\"name\": \"framework\", \"description\": \"REEEM framework\", \"unit\": \"none\"},\n",
      "            {\"name\": \"version\", \"description\": \"REEEM version\", \"unit\": \"none\"},\n",
      "            {\"name\": \"region\", \"description\": \"Country or region\", \"unit\": \"none\"},\n",
      "            {\"name\": \"year\", \"description\": \"Year\", \"unit\": \"none\"},\n",
      "            {\"name\": \"category\", \"description\": \"2. classification\", \"unit\": \"none\"},\n",
      "            {\"name\": \"indicator\", \"description\": \"Parameter name\", \"unit\": \"none\"},\n",
      "            {\"name\": \"value\", \"description\": \"Parameter value\", \"unit\": \"unit\"},\n",
      "            {\"name\": \"unit\", \"description\": \"Parameter unit\", \"unit\": \"none\"},\n",
      "            {\"name\": \"aggregation\", \"description\": \"True if aggregated\", \"unit\": \"none\"},\n",
      "            {\"name\": \"tags\", \"description\": \"Free classification\", \"unit\": \"none\"},\n",
      "            {\"name\": \"updated\", \"description\": \"Timestamp\", \"unit\": \"none\"} ] } ],\n",
      "    \"metadata_version\": \"1.3\"}\n",
      "Data saved to file: data/leca/reeem_leca_output_metadata.json\n"
     ]
    }
   ],
   "source": [
    "# Output Metadata\n",
    "sql = text(\"\"\"SELECT obj_description('{0}.{1}'::regclass);\"\"\".format(schema, table_out))\n",
    "meta_out = pd.read_sql_query(sql, con).loc[:,'obj_description'].iloc[0]\n",
    "print(meta_out)\n",
    "\n",
    "# Save data to JSON file\n",
    "fname_out = 'data/{0}/{1}_metadata.json'.format(folder, table_out)\n",
    "with open(fname_out, 'w') as metafile:\n",
    "    json.dump(json.loads(meta_out), metafile, indent=4)\n",
    "    print(\"Data saved to file:\", fname_out)"
   ]
  },
  {
   "cell_type": "code",
   "execution_count": null,
   "metadata": {},
   "outputs": [],
   "source": []
  },
  {
   "cell_type": "markdown",
   "metadata": {},
   "source": [
    "# View 3: One indicator for all regions in one pathway over time"
   ]
  },
  {
   "cell_type": "markdown",
   "metadata": {},
   "source": [
    "## Database Query\n",
    "\n",
    "This section can be used to query one specific **indicator** for all regions from one database table (_table_).<br>\n",
    "Indicators are identified by the **nid** (_filter 1_).<br>\n",
    "Only **region** _EU28_ is excluded (_filter 2_).<br>\n",
    "It is possible to select one specific **pathway** (_filter 3_) and one specific data **version** (_filter 4_).<br>\n",
    "To querry additional coulmns from the database table add the names to the **SELECT** statement (_column_).<br>\n",
    "The sortation is done by the **ORDER BY** (_sorting_).<br>\n",
    "The result from the database is saved to a pandas.DataFrame (**df_3**) and can be printed."
   ]
  },
  {
   "cell_type": "code",
   "execution_count": null,
   "metadata": {},
   "outputs": [],
   "source": [
    "# Database select (SQL)\n",
    "sql = text(\"\"\"\n",
    "    SELECT  pathway, version, region, year, nid, indicator, category, value, unit  -- column\n",
    "    FROM    model_draft.reeem_ecosenseeva_output -- table\n",
    "    WHERE nid = 1                                 -- filter 1\n",
    "        AND region <> 'EU28'                      -- filter 2\n",
    "        AND pathway = 'PathwayNA'                 -- filter 3\n",
    "        AND version = 'DataV1'                    -- filter 4\n",
    "    ORDER BY pathway, version, region, year;      -- sorting \"\"\")\n",
    "df_3 = pd.read_sql_query(sql, con)\n",
    "#df_3"
   ]
  },
  {
   "cell_type": "markdown",
   "metadata": {},
   "source": [
    "## Metadata\n",
    "\n",
    "The important information from the above select (**df_3**) is collected in a Dictionary (**info_dict_3**)."
   ]
  },
  {
   "cell_type": "code",
   "execution_count": null,
   "metadata": {},
   "outputs": [],
   "source": [
    "# Facts dict\n",
    "info_dict_3 = {}\n",
    "info_dict_3['Filename'] = ['{0}_reeem_EcoSense_allregions_{1}' .format(\n",
    "    pd.to_datetime('today').strftime(\"%Y-%m-%d\"),\n",
    "    df_3.loc[:,'indicator'].unique()[0])]\n",
    "info_dict_3['Category'] = df_3.loc[:,'category'].unique()\n",
    "info_dict_3['Indicator'] = df_3.loc[:,'indicator'].unique()\n",
    "info_dict_3['Unit'] = df_3.loc[:,'unit'].unique()\n",
    "info_dict_3['Pathway'] = df_3.loc[:,'pathway'].unique()\n",
    "info_dict_3['Year'] = df_3.loc[:,'year'].unique().tolist()\n",
    "info_dict_3['Region'] = df_3.loc[:,'region'].unique()\n",
    "info_dict_3['Y-Axis'] = ['{} in {}'.format(*info_dict_3['Indicator'], *info_dict_3['Unit'])]\n",
    "info_dict_3['Title'] = ['{} in all regions'.format(*info_dict_3['Category'])]\n",
    "info_dict_3['Metadata'] = df_meta\n",
    "\n",
    "# Print facts\n",
    "for x in info_dict_3:\n",
    "    print(x,':',info_dict_3[x])"
   ]
  },
  {
   "cell_type": "markdown",
   "metadata": {},
   "source": [
    "## Stack data\n",
    "\n",
    "This pivot function reorganises the data and makes each pathway a column. The year is used as the index.<br>\n",
    "The result is saved to a new dataframe (**df_3p**) and can be printed."
   ]
  },
  {
   "cell_type": "code",
   "execution_count": null,
   "metadata": {},
   "outputs": [],
   "source": [
    "# Reshape dataframe\n",
    "df_3p = df_3.pivot(index='year', columns='region',  values='value')\n",
    "#df_3p"
   ]
  },
  {
   "cell_type": "markdown",
   "metadata": {},
   "source": [
    "## Plot\n",
    "\n",
    "This is a basic plot with [matplotlib](https://matplotlib.org/).<br>\n",
    "The title and y-axis labels are taken from the **info_dict_3**. They can be exchanged with manual text."
   ]
  },
  {
   "cell_type": "code",
   "execution_count": null,
   "metadata": {},
   "outputs": [],
   "source": [
    "# Plot for one indicator and one pathway\n",
    "fig = plt.figure(figsize=(12, 10))\n",
    "ax = plt.subplot()\n",
    "# plt.title(r'CO2-Emissions in all regions', fontsize=16)  # Manual title\n",
    "plt.title(*info_dict_3['Title'], fontsize=16)         # Title from info\n",
    "# plt.ylabel(r'CO2-Emissions in Mt')                # Manual label\n",
    "plt.ylabel(*info_dict_3['Y-Axis'])                    # Label from info\n",
    "plt.plot(df_3p, \n",
    "         marker=\"o\",  markersize=5)\n",
    "plt.legend(df_3p)\n",
    "ax.set_ylim(ymin=0)"
   ]
  },
  {
   "cell_type": "markdown",
   "metadata": {},
   "source": [
    "## Interactive Plot\n",
    "\n",
    "This is a basic interactive plot with [Plotly](https://plot.ly/python/).<br>\n",
    "You can hover over the elements of the plot and observe the data.<br>\n",
    "The different pathways can be switched on and off."
   ]
  },
  {
   "cell_type": "code",
   "execution_count": null,
   "metadata": {},
   "outputs": [],
   "source": [
    "# Iterate over pathways and add to data\n",
    "regions = df_3.loc[:,'region'].unique()\n",
    "data = []\n",
    "for region in regions:\n",
    "    data.append(go.Scatter(\n",
    "        x = df_3.loc[df_3['region'] == region].loc[:,'year'],\n",
    "        y = df_3.loc[df_3['region'] == region].loc[:,'value'],\n",
    "        name = region))\n",
    "\n",
    "# Set layout\n",
    "layout = go.Layout(\n",
    "    height=800, width = 800,\n",
    "    #title='CO2-Emissions in EU28',\n",
    "    title=''.join(info_dict_3['Title']),\n",
    "    # yaxis=dict(title='CO2-Emissions in Mt') )\n",
    "    yaxis=dict(title=''.join(info_dict_3['Y-Axis'])) )\n",
    "ifig = go.Figure(data=data, layout=layout)\n",
    "pltly.iplot(ifig)"
   ]
  },
  {
   "cell_type": "markdown",
   "metadata": {},
   "source": [
    "## Save results to files\n",
    "\n",
    "The results are saved to cooresponding files in a folder named **data**.<br>\n",
    "The **info_dict** is saved to a text file (txt).<br>\n",
    "The **data** is saved to a table (csv).<br>\n",
    "The **plot** is saved as an image (png).<br>\n",
    "The **interactive plot** is saved as a webpage (html). It will also open in a new tab of your browser.<br>"
   ]
  },
  {
   "cell_type": "code",
   "execution_count": null,
   "metadata": {},
   "outputs": [],
   "source": [
    "# Write facts to textfile\n",
    "filename = ('data/{}.txt').format(*info_dict_3['Filename'])\n",
    "with open(filename,'w') as tfile:\n",
    "    for i in info_dict_3.keys():\n",
    "        tfile.write(i + \": \" + ', '.join([str(x) for x in info_dict_3[i]]) + \"\\n\")\n",
    "tfile.close()\n",
    "print(\"Facts saved to file:\", filename)\n",
    "\n",
    "# Save data to CSV\n",
    "csvname = 'data/{}.csv' .format(*info_dict_3['Filename'])\n",
    "df_3.to_csv(csvname, sep=';')\n",
    "print(\"Data saved to file:\", csvname)\n",
    "\n",
    "# Save pivot data to CSV\n",
    "csvname = 'data/{}_pivot.csv' .format(*info_dict_3['Filename'])\n",
    "df_3p.to_csv(csvname, sep=';')\n",
    "print(\"Data saved to file:\", csvname)\n",
    "\n",
    "# Save plot as file\n",
    "plotname = 'data/{}.png' .format(*info_dict_3['Filename'])\n",
    "fig.savefig(plotname, bbox_inches='tight')\n",
    "print(\"Plot saved to file:\", plotname)\n",
    "\n",
    "# Save interactive plot\n",
    "htmlname = 'data/{}.html' .format(*info_dict_3['Filename'])\n",
    "pltly.plot(ifig, filename=htmlname)\n",
    "print(\"Interactive plot saved to file:\", htmlname)"
   ]
  },
  {
   "cell_type": "code",
   "execution_count": null,
   "metadata": {},
   "outputs": [],
   "source": []
  },
  {
   "cell_type": "markdown",
   "metadata": {},
   "source": [
    "# View 4: All indicators for one region in one pathway over time"
   ]
  },
  {
   "cell_type": "markdown",
   "metadata": {},
   "source": [
    "## Database Query\n",
    "\n",
    "This section can be used to query all **indicators** for one **region** (_filter 2_) from one database table (_table_).<br>\n",
    "Indicators are identified by the **nid**.<br>\n",
    "It is possible to select one specific **pathway** (_filter 3_) and one specific data **version** (_filter 4_).<br>\n",
    "To querry additional coulmns from the database table add the names to the **SELECT** statement (_column_).<br>\n",
    "The sortation is done by the **ORDER BY** (_sorting_).<br>\n",
    "The result from the database is saved to a pandas.DataFrame (**df_4**) and can be printed."
   ]
  },
  {
   "cell_type": "code",
   "execution_count": null,
   "metadata": {},
   "outputs": [],
   "source": [
    "# Database select (SQL)\n",
    "sql = text(\"\"\"\n",
    "    SELECT  pathway, version, region, year, nid, indicator, category, value, unit  -- column\n",
    "    FROM    model_draft.reeem_ecosenseeva_output -- table\n",
    "    WHERE region = 'DE'                           -- filter 2\n",
    "        AND pathway = 'PathwayNA'                 -- filter 3\n",
    "        AND version = 'DataV1'                    -- filter 4\n",
    "    ORDER BY pathway, version, year, region, nid; -- sorting \"\"\")\n",
    "df_4 = pd.read_sql_query(sql, con)\n",
    "#print(df_4)"
   ]
  },
  {
   "cell_type": "markdown",
   "metadata": {},
   "source": [
    "## Metadata\n",
    "\n",
    "The important information from the above select (**df_4**) is collected in a Dictionary (**info_dict_4**)."
   ]
  },
  {
   "cell_type": "code",
   "execution_count": null,
   "metadata": {},
   "outputs": [],
   "source": [
    "# Facts dict\n",
    "info_dict_4 = {}\n",
    "info_dict_4['Filename'] = ['{0}_reeem_EcoSense_allindicators_{1}' .format(\n",
    "    pd.to_datetime('today').strftime(\"%Y-%m-%d\"),\n",
    "    df_4.loc[:,'region'].unique()[0])]\n",
    "info_dict_4['Category'] = df_4.loc[:,'category'].unique()\n",
    "info_dict_4['Indicator'] = df_4.loc[:,'indicator'].unique()\n",
    "info_dict_4['Unit'] = df_4.loc[:,'unit'].unique()\n",
    "info_dict_4['Pathway'] = df_4.loc[:,'pathway'].unique()\n",
    "info_dict_4['Year'] = df_4.loc[:,'year'].unique().tolist()\n",
    "info_dict_4['Region'] = df_4.loc[:,'region'].unique()\n",
    "info_dict_4['Y-Axis'] = ['Unit costs in {}'.format(*info_dict_4['Unit'])]\n",
    "info_dict_4['Title'] = ['All indicators in region {}'.format(*info_dict_4['Region'])]\n",
    "info_dict_4['Metadata'] = df_meta\n",
    "\n",
    "# Print facts\n",
    "for x in info_dict_4:\n",
    "    print(x,':',info_dict_4[x])"
   ]
  },
  {
   "cell_type": "markdown",
   "metadata": {},
   "source": [
    "## Stack data\n",
    "\n",
    "This pivot function reorganises the data and makes each year a column. The indicator is used as the index.<br>\n",
    "The result is saved to a new dataframe (**df_4p**) and can be printed."
   ]
  },
  {
   "cell_type": "code",
   "execution_count": null,
   "metadata": {},
   "outputs": [],
   "source": [
    "# Reshape dataframe\n",
    "df_4p = df_4.pivot(index='year', columns='indicator',  values='value')\n",
    "#df_4p"
   ]
  },
  {
   "cell_type": "markdown",
   "metadata": {},
   "source": [
    "## Plot\n",
    "\n",
    "This is a basic plot with [matplotlib](https://matplotlib.org/).<br>\n",
    "The title and y-axis labels are taken from the **info_dict_4**. They can be exchanged with manual text."
   ]
  },
  {
   "cell_type": "code",
   "execution_count": null,
   "metadata": {},
   "outputs": [],
   "source": [
    "# Plot for one indicator and one pathway\n",
    "fig = plt.figure(figsize=(12, 10))\n",
    "ax = plt.subplot()\n",
    "# plt.title(r'All indicators in region {}', fontsize=16)   # Manual title\n",
    "plt.title(*info_dict_4['Title'], fontsize=16)         # Title from info\n",
    "# plt.ylabel(r'CO2-Emissions in Mt')                # Manual label\n",
    "#plt.ylabel(*info_dict_4['Y-Axis'])                    # Label from info\n",
    "plt.plot(df_4p, \n",
    "         marker=\"o\",  markersize=5)\n",
    "plt.legend(df_4p)\n",
    "ax.set_ylim(ymin=0)"
   ]
  },
  {
   "cell_type": "markdown",
   "metadata": {},
   "source": [
    "## Interactive Plot\n",
    "\n",
    "This is a basic interactive plot with [Plotly](https://plot.ly/python/).<br>\n",
    "You can hover over the elements of the plot and observe the data.<br>\n",
    "The different pathways can be switched on and off."
   ]
  },
  {
   "cell_type": "code",
   "execution_count": null,
   "metadata": {},
   "outputs": [],
   "source": [
    "# Iterate over pathways and add to data\n",
    "indicators = df_4.loc[:,'indicator'].unique()\n",
    "data = []\n",
    "for indicator in indicators:\n",
    "    data.append(go.Scatter(\n",
    "        x = df_4.loc[df_4['indicator'] == indicator].loc[:,'year'],\n",
    "        y = df_4.loc[df_4['indicator'] == indicator].loc[:,'value'],\n",
    "        name = indicator))\n",
    "\n",
    "# Set layout\n",
    "layout = go.Layout(\n",
    "    height=800, width = 800,\n",
    "    #title='CO2-Emissions in EU28',\n",
    "    title=''.join(info_dict_4['Title']),\n",
    "    # yaxis=dict(title='CO2-Emissions in Mt') )\n",
    "    yaxis=dict(title=''.join(info_dict_4['Y-Axis'])) )\n",
    "ifig = go.Figure(data=data, layout=layout)\n",
    "pltly.iplot(ifig)"
   ]
  },
  {
   "cell_type": "markdown",
   "metadata": {},
   "source": [
    "## Save results to files\n",
    "\n",
    "The results are saved to cooresponding files in a folder named **data**.<br>\n",
    "The **info_dict** is saved to a text file (txt).<br>\n",
    "The **data** is saved to a table (csv).<br>\n",
    "The **plot** is saved as an image (png).<br>\n",
    "The **interactive plot** is saved as a webpage (html). It will also open in a new tab of your browser.<br>"
   ]
  },
  {
   "cell_type": "code",
   "execution_count": null,
   "metadata": {},
   "outputs": [],
   "source": [
    "# Write facts to textfile\n",
    "filename = ('data/{}.txt').format(*info_dict_4['Filename'])\n",
    "with open(filename,'w') as tfile:\n",
    "    for i in info_dict_4.keys():\n",
    "        tfile.write(i + \": \" + ', '.join([str(x) for x in info_dict_4[i]]) + \"\\n\")\n",
    "tfile.close()\n",
    "print(\"Facts saved to file:\", filename)\n",
    "\n",
    "# Save data to CSV\n",
    "csvname = 'data/{}.csv' .format(*info_dict_4['Filename'])\n",
    "df_4.to_csv(csvname, sep=';')\n",
    "print(\"Data saved to file:\", csvname)\n",
    "\n",
    "# Save pivot data to CSV\n",
    "csvname = 'data/{}_pivot.csv' .format(*info_dict_4['Filename'])\n",
    "df_4p.to_csv(csvname, sep=';')\n",
    "print(\"Data saved to file:\", csvname)\n",
    "\n",
    "# Save plot as file\n",
    "plotname = 'data/{}.png' .format(*info_dict_4['Filename'])\n",
    "fig.savefig(plotname, bbox_inches='tight')\n",
    "print(\"Plot saved to file:\", plotname)\n",
    "\n",
    "# Save interactive plot\n",
    "htmlname = 'data/{}.html' .format(*info_dict_4['Filename'])\n",
    "pltly.plot(ifig, filename=htmlname)\n",
    "print(\"Interactive plot saved to file:\", htmlname)"
   ]
  },
  {
   "cell_type": "code",
   "execution_count": null,
   "metadata": {},
   "outputs": [],
   "source": []
  }
 ],
 "metadata": {
  "kernelspec": {
   "display_name": "Python 3",
   "language": "python",
   "name": "python3"
  },
  "language_info": {
   "codemirror_mode": {
    "name": "ipython",
    "version": 3
   },
   "file_extension": ".py",
   "mimetype": "text/x-python",
   "name": "python",
   "nbconvert_exporter": "python",
   "pygments_lexer": "ipython3",
   "version": "3.6.5"
  }
 },
 "nbformat": 4,
 "nbformat_minor": 2
}
