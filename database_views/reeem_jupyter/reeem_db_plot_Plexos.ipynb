{
 "cells": [
  {
   "cell_type": "markdown",
   "metadata": {},
   "source": [
    "<img src=\"http://www.reeem.org/wp-content/uploads/2017/10/cropped-reeem-logo-transparent.png\" width=\"300\" style=\"float: left\">\n",
    "<img src=\"http://reiner-lemoine-institut.de//wp-content/uploads/2015/09/rlilogo.png\" width=\"100\" style=\"float: right\">"
   ]
  },
  {
   "cell_type": "markdown",
   "metadata": {},
   "source": [
    "# REEEM-DB - PLEXOS\n",
    "\n",
    "__copyright__ \t= \"© Reiner Lemoine Institut\" <br>\n",
    "__license__ \t= \"GNU Affero General Public License Version 3 (AGPL-3.0)\" <br>\n",
    "__url__ \t\t= \"https://www.gnu.org/licenses/agpl-3.0.en.html\" <br>\n",
    "__author__ \t\t= \"Ludwig Hülk\""
   ]
  },
  {
   "cell_type": "markdown",
   "metadata": {},
   "source": [
    "# Import"
   ]
  },
  {
   "cell_type": "code",
   "execution_count": 1,
   "metadata": {},
   "outputs": [
    {
     "data": {
      "text/html": [
       "<script>requirejs.config({paths: { 'plotly': ['https://cdn.plot.ly/plotly-latest.min']},});if(!window.Plotly) {{require(['plotly'],function(plotly) {window.Plotly=plotly;});}}</script>"
      ],
      "text/vnd.plotly.v1+html": [
       "<script>requirejs.config({paths: { 'plotly': ['https://cdn.plot.ly/plotly-latest.min']},});if(!window.Plotly) {{require(['plotly'],function(plotly) {window.Plotly=plotly;});}}</script>"
      ]
     },
     "metadata": {},
     "output_type": "display_data"
    }
   ],
   "source": [
    "# basic\n",
    "import sys\n",
    "import os\n",
    "import getpass\n",
    "import pandas as pd\n",
    "import numpy as np\n",
    "import json\n",
    "import pathlib\n",
    "from sqlalchemy import *\n",
    "# plot\n",
    "import matplotlib.pyplot as plt\n",
    "import matplotlib.ticker as mticker\n",
    "import plotly.graph_objs as go\n",
    "import plotly.offline as pltly\n",
    "import colorlover as cl\n",
    "import seaborn as sns\n",
    "# notebook\n",
    "from IPython.display import Image\n",
    "from IPython.core.display import HTML \n",
    "\n",
    "pltly.init_notebook_mode(connected=True)\n",
    "%matplotlib inline\n",
    "\n",
    "version = 'v0.2.0'\n",
    "project = 'REEEM'"
   ]
  },
  {
   "cell_type": "markdown",
   "metadata": {},
   "source": [
    "# Database Connection\n",
    "\n",
    "This function creates a database connection to the **reeem_db**.<br>\n",
    "The default user is **reeem_vis**, a user that has only read rights.\n",
    "\n",
    "This section establishes the database connection and asks for the **password**.<br>\n",
    "The username can be changed in the corresponding function above.<br>\n",
    "If you don't have a username or forgot your password please contact your database admins."
   ]
  },
  {
   "cell_type": "code",
   "execution_count": 2,
   "metadata": {},
   "outputs": [
    {
     "name": "stderr",
     "output_type": "stream",
     "text": [
      "C:\\Anaconda3\\envs\\reeem-vis\\lib\\site-packages\\ipykernel_launcher.py:12: UserWarning:\n",
      "\n",
      "The `stream` parameter of `getpass.getpass` will have no effect when using ipykernel\n",
      "\n"
     ]
    },
    {
     "name": "stdout",
     "output_type": "stream",
     "text": [
      "Please provide connection parameters to database:\n",
      "Hit [Enter] to take defaults\n",
      "password: ········\n",
      "Password correct! Database connection established.\n"
     ]
    }
   ],
   "source": [
    "def reeem_session():\n",
    "    \"\"\"SQLAlchemy session object with valid connection to reeem database\"\"\"\n",
    "    \n",
    "    print('Please provide connection parameters to database:\\n' +\n",
    "              'Hit [Enter] to take defaults')\n",
    "    host = '130.226.55.43' # input('host (default 130.226.55.43): ')\n",
    "    port = '5432' # input('port (default 5432): ')\n",
    "    database = 'reeem' # input(\"database name (default 'reeem'): \")\n",
    "    user = 'reeem_vis' # input('user (default postgres): ')\n",
    "    # password = input('password: ')\n",
    "    password = getpass.getpass(prompt='password: ',\n",
    "                                   stream=sys.stderr)\n",
    "    con = create_engine(\n",
    "            'postgresql://' + '%s:%s@%s:%s/%s' % (user,\n",
    "                                                  password,\n",
    "                                                  host,\n",
    "                                                  port,\n",
    "                                                  database)).connect()\n",
    "    print('Password correct! Database connection established.')\n",
    "    return con\n",
    "\n",
    "con = reeem_session()"
   ]
  },
  {
   "cell_type": "markdown",
   "metadata": {},
   "source": [
    "# Table Info"
   ]
  },
  {
   "cell_type": "code",
   "execution_count": 3,
   "metadata": {},
   "outputs": [
    {
     "name": "stdout",
     "output_type": "stream",
     "text": [
      "Database Schema: model_draft\n",
      "Input table: reeem_plexos_input\n",
      "Output table: reeem_plexos_output\n",
      "Created folder: plexos\n"
     ]
    }
   ],
   "source": [
    "# Database\n",
    "schema = 'model_draft'\n",
    "table_in = 'reeem_plexos_input'\n",
    "table_out = 'reeem_plexos_output'\n",
    "folder = 'plexos'\n",
    "\n",
    "pathlib.Path('data/'+folder).mkdir(parents=True, exist_ok=True) \n",
    "print(\"Database Schema:\", schema +'\\n'+ \"Input table:\", table_in +'\\n'+ \n",
    "      \"Output table:\", table_out +'\\n'+ \"Created folder:\", folder )"
   ]
  },
  {
   "cell_type": "markdown",
   "metadata": {},
   "source": [
    "## Database Query\n",
    "\n",
    "This section is used to query the database tables (**table_in** and **table_out**).<br>"
   ]
  },
  {
   "cell_type": "code",
   "execution_count": 4,
   "metadata": {},
   "outputs": [
    {
     "data": {
      "text/html": [
       "<div>\n",
       "<style scoped>\n",
       "    .dataframe tbody tr th:only-of-type {\n",
       "        vertical-align: middle;\n",
       "    }\n",
       "\n",
       "    .dataframe tbody tr th {\n",
       "        vertical-align: top;\n",
       "    }\n",
       "\n",
       "    .dataframe thead th {\n",
       "        text-align: right;\n",
       "    }\n",
       "</style>\n",
       "<table border=\"1\" class=\"dataframe\">\n",
       "  <thead>\n",
       "    <tr style=\"text-align: right;\">\n",
       "      <th></th>\n",
       "      <th>data</th>\n",
       "      <th>count</th>\n",
       "    </tr>\n",
       "  </thead>\n",
       "  <tbody>\n",
       "    <tr>\n",
       "      <th>0</th>\n",
       "      <td>In</td>\n",
       "      <td>235</td>\n",
       "    </tr>\n",
       "    <tr>\n",
       "      <th>1</th>\n",
       "      <td>Out</td>\n",
       "      <td>353</td>\n",
       "    </tr>\n",
       "  </tbody>\n",
       "</table>\n",
       "</div>"
      ],
      "text/plain": [
       "  data  count\n",
       "0   In    235\n",
       "1  Out    353"
      ]
     },
     "execution_count": 4,
     "metadata": {},
     "output_type": "execute_result"
    }
   ],
   "source": [
    "# Number of entries in table\n",
    "sql = text(\"\"\"\n",
    "    SELECT  'In' AS data, count(*) AS count\n",
    "    FROM    {0}.{1}\n",
    "    UNION ALL\n",
    "    SELECT  'Out' AS data, count(*) AS count\n",
    "    FROM    {0}.{2}\"\"\".format(schema, table_in, table_out))\n",
    "df_num = pd.read_sql_query(sql, con)\n",
    "df_num"
   ]
  },
  {
   "cell_type": "code",
   "execution_count": 5,
   "metadata": {},
   "outputs": [
    {
     "data": {
      "text/html": [
       "<div>\n",
       "<style scoped>\n",
       "    .dataframe tbody tr th:only-of-type {\n",
       "        vertical-align: middle;\n",
       "    }\n",
       "\n",
       "    .dataframe tbody tr th {\n",
       "        vertical-align: top;\n",
       "    }\n",
       "\n",
       "    .dataframe thead th {\n",
       "        text-align: right;\n",
       "    }\n",
       "</style>\n",
       "<table border=\"1\" class=\"dataframe\">\n",
       "  <thead>\n",
       "    <tr style=\"text-align: right;\">\n",
       "      <th></th>\n",
       "      <th>data</th>\n",
       "      <th>pathway</th>\n",
       "      <th>count</th>\n",
       "    </tr>\n",
       "  </thead>\n",
       "  <tbody>\n",
       "    <tr>\n",
       "      <th>0</th>\n",
       "      <td>In</td>\n",
       "      <td>Base</td>\n",
       "      <td>235</td>\n",
       "    </tr>\n",
       "    <tr>\n",
       "      <th>1</th>\n",
       "      <td>Out</td>\n",
       "      <td>Base</td>\n",
       "      <td>353</td>\n",
       "    </tr>\n",
       "  </tbody>\n",
       "</table>\n",
       "</div>"
      ],
      "text/plain": [
       "  data pathway  count\n",
       "0   In    Base    235\n",
       "1  Out    Base    353"
      ]
     },
     "execution_count": 5,
     "metadata": {},
     "output_type": "execute_result"
    }
   ],
   "source": [
    "# Pathways\n",
    "column = 'pathway' # id, pathway, version, region, year, indicator, category, value, unit\n",
    "sql = text(\"\"\"\n",
    "    SELECT  'In' AS data, {3}, count(*) AS count\n",
    "    FROM    {0}.{1}\n",
    "    GROUP BY {3} \n",
    "    UNION ALL \n",
    "    SELECT  'Out' AS data, {3}, count(*) AS count\n",
    "    FROM    {0}.{2}\n",
    "    GROUP BY {3} \n",
    "    ORDER BY {3}; \"\"\".format(schema, table_in, table_out, column))\n",
    "df_path = pd.read_sql_query(sql, con)\n",
    "df_path"
   ]
  },
  {
   "cell_type": "code",
   "execution_count": 6,
   "metadata": {},
   "outputs": [
    {
     "data": {
      "text/html": [
       "<div>\n",
       "<style scoped>\n",
       "    .dataframe tbody tr th:only-of-type {\n",
       "        vertical-align: middle;\n",
       "    }\n",
       "\n",
       "    .dataframe tbody tr th {\n",
       "        vertical-align: top;\n",
       "    }\n",
       "\n",
       "    .dataframe thead th {\n",
       "        text-align: right;\n",
       "    }\n",
       "</style>\n",
       "<table border=\"1\" class=\"dataframe\">\n",
       "  <thead>\n",
       "    <tr style=\"text-align: right;\">\n",
       "      <th></th>\n",
       "      <th>data</th>\n",
       "      <th>pathway</th>\n",
       "      <th>version</th>\n",
       "      <th>count</th>\n",
       "    </tr>\n",
       "  </thead>\n",
       "  <tbody>\n",
       "    <tr>\n",
       "      <th>0</th>\n",
       "      <td>In</td>\n",
       "      <td>Base</td>\n",
       "      <td>DataV1</td>\n",
       "      <td>115</td>\n",
       "    </tr>\n",
       "    <tr>\n",
       "      <th>1</th>\n",
       "      <td>Out</td>\n",
       "      <td>Base</td>\n",
       "      <td>DataV1</td>\n",
       "      <td>178</td>\n",
       "    </tr>\n",
       "    <tr>\n",
       "      <th>2</th>\n",
       "      <td>In</td>\n",
       "      <td>Base</td>\n",
       "      <td>DataV2</td>\n",
       "      <td>120</td>\n",
       "    </tr>\n",
       "    <tr>\n",
       "      <th>3</th>\n",
       "      <td>Out</td>\n",
       "      <td>Base</td>\n",
       "      <td>DataV2</td>\n",
       "      <td>175</td>\n",
       "    </tr>\n",
       "  </tbody>\n",
       "</table>\n",
       "</div>"
      ],
      "text/plain": [
       "  data pathway version  count\n",
       "0   In    Base  DataV1    115\n",
       "1  Out    Base  DataV1    178\n",
       "2   In    Base  DataV2    120\n",
       "3  Out    Base  DataV2    175"
      ]
     },
     "execution_count": 6,
     "metadata": {},
     "output_type": "execute_result"
    }
   ],
   "source": [
    "# Versions\n",
    "column = 'pathway,version' # id, pathway, version, region, year, indicator, category, value, unit\n",
    "sql = text(\"\"\"\n",
    "    SELECT  'In' AS data, {3}, count(*) AS count\n",
    "    FROM    {0}.{1}\n",
    "    GROUP BY {3} \n",
    "    UNION ALL \n",
    "    SELECT  'Out' AS data, {3}, count(*) AS count\n",
    "    FROM    {0}.{2}\n",
    "    GROUP BY {3} \n",
    "    ORDER BY {3}; \"\"\".format(schema, table_in, table_out, column))\n",
    "df_ver = pd.read_sql_query(sql, con)\n",
    "df_ver"
   ]
  },
  {
   "cell_type": "code",
   "execution_count": 7,
   "metadata": {},
   "outputs": [
    {
     "data": {
      "text/html": [
       "<div>\n",
       "<style scoped>\n",
       "    .dataframe tbody tr th:only-of-type {\n",
       "        vertical-align: middle;\n",
       "    }\n",
       "\n",
       "    .dataframe tbody tr th {\n",
       "        vertical-align: top;\n",
       "    }\n",
       "\n",
       "    .dataframe thead th {\n",
       "        text-align: right;\n",
       "    }\n",
       "</style>\n",
       "<table border=\"1\" class=\"dataframe\">\n",
       "  <thead>\n",
       "    <tr style=\"text-align: right;\">\n",
       "      <th></th>\n",
       "      <th>data</th>\n",
       "      <th>year</th>\n",
       "      <th>count</th>\n",
       "    </tr>\n",
       "  </thead>\n",
       "  <tbody>\n",
       "    <tr>\n",
       "      <th>0</th>\n",
       "      <td>In</td>\n",
       "      <td>2030</td>\n",
       "      <td>235</td>\n",
       "    </tr>\n",
       "    <tr>\n",
       "      <th>1</th>\n",
       "      <td>Out</td>\n",
       "      <td>2030</td>\n",
       "      <td>353</td>\n",
       "    </tr>\n",
       "  </tbody>\n",
       "</table>\n",
       "</div>"
      ],
      "text/plain": [
       "  data  year  count\n",
       "0   In  2030    235\n",
       "1  Out  2030    353"
      ]
     },
     "execution_count": 7,
     "metadata": {},
     "output_type": "execute_result"
    }
   ],
   "source": [
    "# Years\n",
    "column = 'year' # id, pathway, version, region, year, indicator, category, value, unit\n",
    "sql = text(\"\"\"\n",
    "    SELECT  'In' AS data, {3}, count(*) AS count\n",
    "    FROM    {0}.{1}\n",
    "    GROUP BY {3} \n",
    "    UNION ALL \n",
    "    SELECT  'Out' AS data, {3}, count(*) AS count\n",
    "    FROM    {0}.{2}\n",
    "    GROUP BY {3} \n",
    "    ORDER BY {3} ; \"\"\".format(schema, table_in, table_out, column))\n",
    "df_year = pd.read_sql_query(sql, con)\n",
    "df_year"
   ]
  },
  {
   "cell_type": "code",
   "execution_count": 8,
   "metadata": {},
   "outputs": [
    {
     "data": {
      "text/html": [
       "<div>\n",
       "<style scoped>\n",
       "    .dataframe tbody tr th:only-of-type {\n",
       "        vertical-align: middle;\n",
       "    }\n",
       "\n",
       "    .dataframe tbody tr th {\n",
       "        vertical-align: top;\n",
       "    }\n",
       "\n",
       "    .dataframe thead th {\n",
       "        text-align: right;\n",
       "    }\n",
       "</style>\n",
       "<table border=\"1\" class=\"dataframe\">\n",
       "  <thead>\n",
       "    <tr style=\"text-align: right;\">\n",
       "      <th></th>\n",
       "      <th>data</th>\n",
       "      <th>region</th>\n",
       "      <th>count</th>\n",
       "    </tr>\n",
       "  </thead>\n",
       "  <tbody>\n",
       "    <tr>\n",
       "      <th>0</th>\n",
       "      <td>In</td>\n",
       "      <td>RO</td>\n",
       "      <td>47</td>\n",
       "    </tr>\n",
       "    <tr>\n",
       "      <th>1</th>\n",
       "      <td>In</td>\n",
       "      <td>BG</td>\n",
       "      <td>45</td>\n",
       "    </tr>\n",
       "    <tr>\n",
       "      <th>2</th>\n",
       "      <td>In</td>\n",
       "      <td>HR</td>\n",
       "      <td>47</td>\n",
       "    </tr>\n",
       "    <tr>\n",
       "      <th>3</th>\n",
       "      <td>In</td>\n",
       "      <td>HU</td>\n",
       "      <td>49</td>\n",
       "    </tr>\n",
       "    <tr>\n",
       "      <th>4</th>\n",
       "      <td>In</td>\n",
       "      <td>SI</td>\n",
       "      <td>47</td>\n",
       "    </tr>\n",
       "    <tr>\n",
       "      <th>5</th>\n",
       "      <td>Out</td>\n",
       "      <td>RO</td>\n",
       "      <td>70</td>\n",
       "    </tr>\n",
       "    <tr>\n",
       "      <th>6</th>\n",
       "      <td>Out</td>\n",
       "      <td>BG</td>\n",
       "      <td>64</td>\n",
       "    </tr>\n",
       "    <tr>\n",
       "      <th>7</th>\n",
       "      <td>Out</td>\n",
       "      <td>HR</td>\n",
       "      <td>70</td>\n",
       "    </tr>\n",
       "    <tr>\n",
       "      <th>8</th>\n",
       "      <td>Out</td>\n",
       "      <td>HU</td>\n",
       "      <td>76</td>\n",
       "    </tr>\n",
       "    <tr>\n",
       "      <th>9</th>\n",
       "      <td>Out</td>\n",
       "      <td>SI</td>\n",
       "      <td>73</td>\n",
       "    </tr>\n",
       "  </tbody>\n",
       "</table>\n",
       "</div>"
      ],
      "text/plain": [
       "  data region  count\n",
       "0   In     RO     47\n",
       "1   In     BG     45\n",
       "2   In     HR     47\n",
       "3   In     HU     49\n",
       "4   In     SI     47\n",
       "5  Out     RO     70\n",
       "6  Out     BG     64\n",
       "7  Out     HR     70\n",
       "8  Out     HU     76\n",
       "9  Out     SI     73"
      ]
     },
     "execution_count": 8,
     "metadata": {},
     "output_type": "execute_result"
    }
   ],
   "source": [
    "# Regions\n",
    "column = 'region' # id, pathway, version, region, year, indicator, category, value, unit\n",
    "sql = text(\"\"\"\n",
    "    SELECT  'In' AS data, {3}, count(*) AS count\n",
    "    FROM    {0}.{1}\n",
    "    GROUP BY {3}\n",
    "    UNION ALL \n",
    "    SELECT  'Out' AS data, {3}, count(*) AS count\n",
    "    FROM    {0}.{2}\n",
    "    GROUP BY {3}; \"\"\".format(schema, table_in, table_out, column))\n",
    "df_reg = pd.read_sql_query(sql, con)\n",
    "df_reg"
   ]
  },
  {
   "cell_type": "code",
   "execution_count": 9,
   "metadata": {},
   "outputs": [
    {
     "data": {
      "text/html": [
       "<div>\n",
       "<style scoped>\n",
       "    .dataframe tbody tr th:only-of-type {\n",
       "        vertical-align: middle;\n",
       "    }\n",
       "\n",
       "    .dataframe tbody tr th {\n",
       "        vertical-align: top;\n",
       "    }\n",
       "\n",
       "    .dataframe thead th {\n",
       "        text-align: right;\n",
       "    }\n",
       "</style>\n",
       "<table border=\"1\" class=\"dataframe\">\n",
       "  <thead>\n",
       "    <tr style=\"text-align: right;\">\n",
       "      <th></th>\n",
       "      <th>data</th>\n",
       "      <th>category</th>\n",
       "      <th>count</th>\n",
       "    </tr>\n",
       "  </thead>\n",
       "  <tbody>\n",
       "    <tr>\n",
       "      <th>0</th>\n",
       "      <td>In</td>\n",
       "      <td>None</td>\n",
       "      <td>5</td>\n",
       "    </tr>\n",
       "    <tr>\n",
       "      <th>1</th>\n",
       "      <td>In</td>\n",
       "      <td>Fuel prices</td>\n",
       "      <td>50</td>\n",
       "    </tr>\n",
       "    <tr>\n",
       "      <th>2</th>\n",
       "      <td>In</td>\n",
       "      <td>demand extraction</td>\n",
       "      <td>10</td>\n",
       "    </tr>\n",
       "    <tr>\n",
       "      <th>3</th>\n",
       "      <td>In</td>\n",
       "      <td>Installed Generation Capacities</td>\n",
       "      <td>150</td>\n",
       "    </tr>\n",
       "    <tr>\n",
       "      <th>4</th>\n",
       "      <td>In</td>\n",
       "      <td>Electricity Exchange - Capacities</td>\n",
       "      <td>20</td>\n",
       "    </tr>\n",
       "    <tr>\n",
       "      <th>5</th>\n",
       "      <td>Out</td>\n",
       "      <td>Emissions</td>\n",
       "      <td>10</td>\n",
       "    </tr>\n",
       "    <tr>\n",
       "      <th>6</th>\n",
       "      <td>Out</td>\n",
       "      <td>Fuel Consumption</td>\n",
       "      <td>50</td>\n",
       "    </tr>\n",
       "    <tr>\n",
       "      <th>7</th>\n",
       "      <td>Out</td>\n",
       "      <td>Electricity Exchange - Export</td>\n",
       "      <td>31</td>\n",
       "    </tr>\n",
       "    <tr>\n",
       "      <th>8</th>\n",
       "      <td>Out</td>\n",
       "      <td>Electricity Exchange - Import</td>\n",
       "      <td>31</td>\n",
       "    </tr>\n",
       "    <tr>\n",
       "      <th>9</th>\n",
       "      <td>Out</td>\n",
       "      <td>Electricity Exchange - Net interchange</td>\n",
       "      <td>31</td>\n",
       "    </tr>\n",
       "    <tr>\n",
       "      <th>10</th>\n",
       "      <td>Out</td>\n",
       "      <td>Load</td>\n",
       "      <td>30</td>\n",
       "    </tr>\n",
       "    <tr>\n",
       "      <th>11</th>\n",
       "      <td>Out</td>\n",
       "      <td>Electricity Generation</td>\n",
       "      <td>160</td>\n",
       "    </tr>\n",
       "    <tr>\n",
       "      <th>12</th>\n",
       "      <td>Out</td>\n",
       "      <td>Prices</td>\n",
       "      <td>10</td>\n",
       "    </tr>\n",
       "  </tbody>\n",
       "</table>\n",
       "</div>"
      ],
      "text/plain": [
       "   data                                category  count\n",
       "0    In                                    None      5\n",
       "1    In                             Fuel prices     50\n",
       "2    In                      demand extraction      10\n",
       "3    In         Installed Generation Capacities    150\n",
       "4    In       Electricity Exchange - Capacities     20\n",
       "5   Out                               Emissions     10\n",
       "6   Out                        Fuel Consumption     50\n",
       "7   Out           Electricity Exchange - Export     31\n",
       "8   Out           Electricity Exchange - Import     31\n",
       "9   Out  Electricity Exchange - Net interchange     31\n",
       "10  Out                                    Load     30\n",
       "11  Out                 Electricity Generation     160\n",
       "12  Out                                  Prices     10"
      ]
     },
     "execution_count": 9,
     "metadata": {},
     "output_type": "execute_result"
    }
   ],
   "source": [
    "# Categories\n",
    "column = 'category' # id, pathway, version, region, year, indicator, category, value, unit\n",
    "sql = text(\"\"\"\n",
    "    SELECT  'In' AS data, {3}, count(*) AS count\n",
    "    FROM    {0}.{1}\n",
    "    GROUP BY {3} \n",
    "    UNION ALL \n",
    "    SELECT  'Out' AS data, {3}, count(*) AS count\n",
    "    FROM    {0}.{2}\n",
    "    GROUP BY {3}; \"\"\".format(schema, table_in, table_out, column))\n",
    "df_cat = pd.read_sql_query(sql, con)\n",
    "df_cat"
   ]
  },
  {
   "cell_type": "code",
   "execution_count": 10,
   "metadata": {},
   "outputs": [
    {
     "data": {
      "text/html": [
       "<div>\n",
       "<style scoped>\n",
       "    .dataframe tbody tr th:only-of-type {\n",
       "        vertical-align: middle;\n",
       "    }\n",
       "\n",
       "    .dataframe tbody tr th {\n",
       "        vertical-align: top;\n",
       "    }\n",
       "\n",
       "    .dataframe thead th {\n",
       "        text-align: right;\n",
       "    }\n",
       "</style>\n",
       "<table border=\"1\" class=\"dataframe\">\n",
       "  <thead>\n",
       "    <tr style=\"text-align: right;\">\n",
       "      <th></th>\n",
       "      <th>data</th>\n",
       "      <th>nid</th>\n",
       "      <th>category</th>\n",
       "      <th>indicator</th>\n",
       "      <th>count</th>\n",
       "    </tr>\n",
       "    <tr>\n",
       "      <th>rid</th>\n",
       "      <th></th>\n",
       "      <th></th>\n",
       "      <th></th>\n",
       "      <th></th>\n",
       "      <th></th>\n",
       "    </tr>\n",
       "  </thead>\n",
       "  <tbody>\n",
       "    <tr>\n",
       "      <th>0</th>\n",
       "      <td>In</td>\n",
       "      <td>1</td>\n",
       "      <td>demand extraction</td>\n",
       "      <td>Electricity Demand</td>\n",
       "      <td>10</td>\n",
       "    </tr>\n",
       "    <tr>\n",
       "      <th>1</th>\n",
       "      <td>In</td>\n",
       "      <td>20</td>\n",
       "      <td>Electricity Exchange - Capacities</td>\n",
       "      <td>BG</td>\n",
       "      <td>2</td>\n",
       "    </tr>\n",
       "    <tr>\n",
       "      <th>2</th>\n",
       "      <td>In</td>\n",
       "      <td>33</td>\n",
       "      <td>Electricity Exchange - Capacities</td>\n",
       "      <td>HR</td>\n",
       "      <td>4</td>\n",
       "    </tr>\n",
       "    <tr>\n",
       "      <th>3</th>\n",
       "      <td>In</td>\n",
       "      <td>31</td>\n",
       "      <td>Electricity Exchange - Capacities</td>\n",
       "      <td>HU</td>\n",
       "      <td>6</td>\n",
       "    </tr>\n",
       "    <tr>\n",
       "      <th>4</th>\n",
       "      <td>In</td>\n",
       "      <td>43</td>\n",
       "      <td>Electricity Exchange - Capacities</td>\n",
       "      <td>RO</td>\n",
       "      <td>4</td>\n",
       "    </tr>\n",
       "    <tr>\n",
       "      <th>5</th>\n",
       "      <td>In</td>\n",
       "      <td>45</td>\n",
       "      <td>Electricity Exchange - Capacities</td>\n",
       "      <td>SI</td>\n",
       "      <td>4</td>\n",
       "    </tr>\n",
       "    <tr>\n",
       "      <th>6</th>\n",
       "      <td>Out</td>\n",
       "      <td>55</td>\n",
       "      <td>Electricity Exchange - Export</td>\n",
       "      <td>BG</td>\n",
       "      <td>2</td>\n",
       "    </tr>\n",
       "    <tr>\n",
       "      <th>7</th>\n",
       "      <td>Out</td>\n",
       "      <td>68</td>\n",
       "      <td>Electricity Exchange - Export</td>\n",
       "      <td>HR</td>\n",
       "      <td>3</td>\n",
       "    </tr>\n",
       "    <tr>\n",
       "      <th>8</th>\n",
       "      <td>Out</td>\n",
       "      <td>66</td>\n",
       "      <td>Electricity Exchange - Export</td>\n",
       "      <td>HU</td>\n",
       "      <td>7</td>\n",
       "    </tr>\n",
       "    <tr>\n",
       "      <th>9</th>\n",
       "      <td>Out</td>\n",
       "      <td>69</td>\n",
       "      <td>Electricity Exchange - Export</td>\n",
       "      <td>IT</td>\n",
       "      <td>1</td>\n",
       "    </tr>\n",
       "    <tr>\n",
       "      <th>10</th>\n",
       "      <td>Out</td>\n",
       "      <td>78</td>\n",
       "      <td>Electricity Exchange - Export</td>\n",
       "      <td>RO</td>\n",
       "      <td>4</td>\n",
       "    </tr>\n",
       "    <tr>\n",
       "      <th>11</th>\n",
       "      <td>Out</td>\n",
       "      <td>80</td>\n",
       "      <td>Electricity Exchange - Export</td>\n",
       "      <td>SI</td>\n",
       "      <td>4</td>\n",
       "    </tr>\n",
       "    <tr>\n",
       "      <th>12</th>\n",
       "      <td>Out</td>\n",
       "      <td>83</td>\n",
       "      <td>Electricity Exchange - Export</td>\n",
       "      <td>Total Export</td>\n",
       "      <td>10</td>\n",
       "    </tr>\n",
       "    <tr>\n",
       "      <th>13</th>\n",
       "      <td>Out</td>\n",
       "      <td>23</td>\n",
       "      <td>Electricity Exchange - Import</td>\n",
       "      <td>BG</td>\n",
       "      <td>2</td>\n",
       "    </tr>\n",
       "    <tr>\n",
       "      <th>14</th>\n",
       "      <td>Out</td>\n",
       "      <td>36</td>\n",
       "      <td>Electricity Exchange - Import</td>\n",
       "      <td>HR</td>\n",
       "      <td>4</td>\n",
       "    </tr>\n",
       "    <tr>\n",
       "      <th>15</th>\n",
       "      <td>Out</td>\n",
       "      <td>34</td>\n",
       "      <td>Electricity Exchange - Import</td>\n",
       "      <td>HU</td>\n",
       "      <td>6</td>\n",
       "    </tr>\n",
       "    <tr>\n",
       "      <th>16</th>\n",
       "      <td>Out</td>\n",
       "      <td>38</td>\n",
       "      <td>Electricity Exchange - Import</td>\n",
       "      <td>LT</td>\n",
       "      <td>1</td>\n",
       "    </tr>\n",
       "    <tr>\n",
       "      <th>17</th>\n",
       "      <td>Out</td>\n",
       "      <td>46</td>\n",
       "      <td>Electricity Exchange - Import</td>\n",
       "      <td>RO</td>\n",
       "      <td>4</td>\n",
       "    </tr>\n",
       "    <tr>\n",
       "      <th>18</th>\n",
       "      <td>Out</td>\n",
       "      <td>48</td>\n",
       "      <td>Electricity Exchange - Import</td>\n",
       "      <td>SI</td>\n",
       "      <td>4</td>\n",
       "    </tr>\n",
       "    <tr>\n",
       "      <th>19</th>\n",
       "      <td>Out</td>\n",
       "      <td>51</td>\n",
       "      <td>Electricity Exchange - Import</td>\n",
       "      <td>Total Import</td>\n",
       "      <td>10</td>\n",
       "    </tr>\n",
       "    <tr>\n",
       "      <th>20</th>\n",
       "      <td>Out</td>\n",
       "      <td>87</td>\n",
       "      <td>Electricity Exchange - Net interchange</td>\n",
       "      <td>BG</td>\n",
       "      <td>2</td>\n",
       "    </tr>\n",
       "    <tr>\n",
       "      <th>21</th>\n",
       "      <td>Out</td>\n",
       "      <td>100</td>\n",
       "      <td>Electricity Exchange - Net interchange</td>\n",
       "      <td>HR</td>\n",
       "      <td>3</td>\n",
       "    </tr>\n",
       "    <tr>\n",
       "      <th>22</th>\n",
       "      <td>Out</td>\n",
       "      <td>98</td>\n",
       "      <td>Electricity Exchange - Net interchange</td>\n",
       "      <td>HU</td>\n",
       "      <td>7</td>\n",
       "    </tr>\n",
       "    <tr>\n",
       "      <th>23</th>\n",
       "      <td>Out</td>\n",
       "      <td>102</td>\n",
       "      <td>Electricity Exchange - Net interchange</td>\n",
       "      <td>LT</td>\n",
       "      <td>1</td>\n",
       "    </tr>\n",
       "    <tr>\n",
       "      <th>24</th>\n",
       "      <td>Out</td>\n",
       "      <td>110</td>\n",
       "      <td>Electricity Exchange - Net interchange</td>\n",
       "      <td>RO</td>\n",
       "      <td>4</td>\n",
       "    </tr>\n",
       "    <tr>\n",
       "      <th>25</th>\n",
       "      <td>Out</td>\n",
       "      <td>112</td>\n",
       "      <td>Electricity Exchange - Net interchange</td>\n",
       "      <td>SI</td>\n",
       "      <td>4</td>\n",
       "    </tr>\n",
       "    <tr>\n",
       "      <th>26</th>\n",
       "      <td>Out</td>\n",
       "      <td>115</td>\n",
       "      <td>Electricity Exchange - Net interchange</td>\n",
       "      <td>Total Net flow</td>\n",
       "      <td>10</td>\n",
       "    </tr>\n",
       "    <tr>\n",
       "      <th>27</th>\n",
       "      <td>Out</td>\n",
       "      <td>11</td>\n",
       "      <td>Electricity Generation</td>\n",
       "      <td>Biogas / Biofuel</td>\n",
       "      <td>10</td>\n",
       "    </tr>\n",
       "    <tr>\n",
       "      <th>28</th>\n",
       "      <td>Out</td>\n",
       "      <td>10</td>\n",
       "      <td>Electricity Generation</td>\n",
       "      <td>Biomass solid / Waste ren.</td>\n",
       "      <td>10</td>\n",
       "    </tr>\n",
       "    <tr>\n",
       "      <th>29</th>\n",
       "      <td>Out</td>\n",
       "      <td>4</td>\n",
       "      <td>Electricity Generation</td>\n",
       "      <td>Coal</td>\n",
       "      <td>10</td>\n",
       "    </tr>\n",
       "    <tr>\n",
       "      <th>...</th>\n",
       "      <td>...</td>\n",
       "      <td>...</td>\n",
       "      <td>...</td>\n",
       "      <td>...</td>\n",
       "      <td>...</td>\n",
       "    </tr>\n",
       "    <tr>\n",
       "      <th>44</th>\n",
       "      <td>Out</td>\n",
       "      <td>116</td>\n",
       "      <td>Fuel Consumption</td>\n",
       "      <td>Coal</td>\n",
       "      <td>10</td>\n",
       "    </tr>\n",
       "    <tr>\n",
       "      <th>45</th>\n",
       "      <td>Out</td>\n",
       "      <td>117</td>\n",
       "      <td>Fuel Consumption</td>\n",
       "      <td>Lignite</td>\n",
       "      <td>10</td>\n",
       "    </tr>\n",
       "    <tr>\n",
       "      <th>46</th>\n",
       "      <td>Out</td>\n",
       "      <td>119</td>\n",
       "      <td>Fuel Consumption</td>\n",
       "      <td>Natural Gas</td>\n",
       "      <td>10</td>\n",
       "    </tr>\n",
       "    <tr>\n",
       "      <th>47</th>\n",
       "      <td>Out</td>\n",
       "      <td>120</td>\n",
       "      <td>Fuel Consumption</td>\n",
       "      <td>Nuclear</td>\n",
       "      <td>10</td>\n",
       "    </tr>\n",
       "    <tr>\n",
       "      <th>48</th>\n",
       "      <td>Out</td>\n",
       "      <td>118</td>\n",
       "      <td>Fuel Consumption</td>\n",
       "      <td>Oil</td>\n",
       "      <td>10</td>\n",
       "    </tr>\n",
       "    <tr>\n",
       "      <th>49</th>\n",
       "      <td>In</td>\n",
       "      <td>51</td>\n",
       "      <td>Fuel prices</td>\n",
       "      <td>Gas</td>\n",
       "      <td>10</td>\n",
       "    </tr>\n",
       "    <tr>\n",
       "      <th>50</th>\n",
       "      <td>In</td>\n",
       "      <td>48</td>\n",
       "      <td>Fuel prices</td>\n",
       "      <td>Hard Coal</td>\n",
       "      <td>10</td>\n",
       "    </tr>\n",
       "    <tr>\n",
       "      <th>51</th>\n",
       "      <td>In</td>\n",
       "      <td>49</td>\n",
       "      <td>Fuel prices</td>\n",
       "      <td>Lignite</td>\n",
       "      <td>10</td>\n",
       "    </tr>\n",
       "    <tr>\n",
       "      <th>52</th>\n",
       "      <td>In</td>\n",
       "      <td>52</td>\n",
       "      <td>Fuel prices</td>\n",
       "      <td>Nuclear</td>\n",
       "      <td>10</td>\n",
       "    </tr>\n",
       "    <tr>\n",
       "      <th>53</th>\n",
       "      <td>In</td>\n",
       "      <td>50</td>\n",
       "      <td>Fuel prices</td>\n",
       "      <td>Oil</td>\n",
       "      <td>10</td>\n",
       "    </tr>\n",
       "    <tr>\n",
       "      <th>54</th>\n",
       "      <td>In</td>\n",
       "      <td>9</td>\n",
       "      <td>Installed Generation Capacities</td>\n",
       "      <td>Biogas / Biofuel</td>\n",
       "      <td>10</td>\n",
       "    </tr>\n",
       "    <tr>\n",
       "      <th>55</th>\n",
       "      <td>In</td>\n",
       "      <td>8</td>\n",
       "      <td>Installed Generation Capacities</td>\n",
       "      <td>Biomass solid / Waste ren.</td>\n",
       "      <td>10</td>\n",
       "    </tr>\n",
       "    <tr>\n",
       "      <th>56</th>\n",
       "      <td>In</td>\n",
       "      <td>2</td>\n",
       "      <td>Installed Generation Capacities</td>\n",
       "      <td>Coal</td>\n",
       "      <td>10</td>\n",
       "    </tr>\n",
       "    <tr>\n",
       "      <th>57</th>\n",
       "      <td>In</td>\n",
       "      <td>16</td>\n",
       "      <td>Installed Generation Capacities</td>\n",
       "      <td>Electricity Storage</td>\n",
       "      <td>10</td>\n",
       "    </tr>\n",
       "    <tr>\n",
       "      <th>58</th>\n",
       "      <td>In</td>\n",
       "      <td>13</td>\n",
       "      <td>Installed Generation Capacities</td>\n",
       "      <td>Geothermal</td>\n",
       "      <td>10</td>\n",
       "    </tr>\n",
       "    <tr>\n",
       "      <th>59</th>\n",
       "      <td>In</td>\n",
       "      <td>10</td>\n",
       "      <td>Installed Generation Capacities</td>\n",
       "      <td>Hydro</td>\n",
       "      <td>10</td>\n",
       "    </tr>\n",
       "    <tr>\n",
       "      <th>60</th>\n",
       "      <td>In</td>\n",
       "      <td>15</td>\n",
       "      <td>Installed Generation Capacities</td>\n",
       "      <td>Hydrogen</td>\n",
       "      <td>10</td>\n",
       "    </tr>\n",
       "    <tr>\n",
       "      <th>61</th>\n",
       "      <td>In</td>\n",
       "      <td>3</td>\n",
       "      <td>Installed Generation Capacities</td>\n",
       "      <td>Lignite</td>\n",
       "      <td>10</td>\n",
       "    </tr>\n",
       "    <tr>\n",
       "      <th>62</th>\n",
       "      <td>In</td>\n",
       "      <td>5</td>\n",
       "      <td>Installed Generation Capacities</td>\n",
       "      <td>Natural Gas / non renew.</td>\n",
       "      <td>10</td>\n",
       "    </tr>\n",
       "    <tr>\n",
       "      <th>63</th>\n",
       "      <td>In</td>\n",
       "      <td>6</td>\n",
       "      <td>Installed Generation Capacities</td>\n",
       "      <td>Nuclear</td>\n",
       "      <td>10</td>\n",
       "    </tr>\n",
       "    <tr>\n",
       "      <th>64</th>\n",
       "      <td>In</td>\n",
       "      <td>14</td>\n",
       "      <td>Installed Generation Capacities</td>\n",
       "      <td>Ocean</td>\n",
       "      <td>10</td>\n",
       "    </tr>\n",
       "    <tr>\n",
       "      <th>65</th>\n",
       "      <td>In</td>\n",
       "      <td>4</td>\n",
       "      <td>Installed Generation Capacities</td>\n",
       "      <td>Oil</td>\n",
       "      <td>10</td>\n",
       "    </tr>\n",
       "    <tr>\n",
       "      <th>66</th>\n",
       "      <td>In</td>\n",
       "      <td>12</td>\n",
       "      <td>Installed Generation Capacities</td>\n",
       "      <td>Solar</td>\n",
       "      <td>10</td>\n",
       "    </tr>\n",
       "    <tr>\n",
       "      <th>67</th>\n",
       "      <td>In</td>\n",
       "      <td>7</td>\n",
       "      <td>Installed Generation Capacities</td>\n",
       "      <td>Waste non renewable + Industrial Waste Heat</td>\n",
       "      <td>10</td>\n",
       "    </tr>\n",
       "    <tr>\n",
       "      <th>68</th>\n",
       "      <td>In</td>\n",
       "      <td>11</td>\n",
       "      <td>Installed Generation Capacities</td>\n",
       "      <td>Wind</td>\n",
       "      <td>10</td>\n",
       "    </tr>\n",
       "    <tr>\n",
       "      <th>69</th>\n",
       "      <td>Out</td>\n",
       "      <td>1</td>\n",
       "      <td>Load</td>\n",
       "      <td>Load</td>\n",
       "      <td>10</td>\n",
       "    </tr>\n",
       "    <tr>\n",
       "      <th>70</th>\n",
       "      <td>Out</td>\n",
       "      <td>2</td>\n",
       "      <td>Load</td>\n",
       "      <td>Pump Load</td>\n",
       "      <td>10</td>\n",
       "    </tr>\n",
       "    <tr>\n",
       "      <th>71</th>\n",
       "      <td>Out</td>\n",
       "      <td>3</td>\n",
       "      <td>Load</td>\n",
       "      <td>Total Load</td>\n",
       "      <td>10</td>\n",
       "    </tr>\n",
       "    <tr>\n",
       "      <th>72</th>\n",
       "      <td>Out</td>\n",
       "      <td>122</td>\n",
       "      <td>Prices</td>\n",
       "      <td>Electricity Price</td>\n",
       "      <td>10</td>\n",
       "    </tr>\n",
       "    <tr>\n",
       "      <th>73</th>\n",
       "      <td>In</td>\n",
       "      <td>53</td>\n",
       "      <td>None</td>\n",
       "      <td>CO2</td>\n",
       "      <td>5</td>\n",
       "    </tr>\n",
       "  </tbody>\n",
       "</table>\n",
       "<p>74 rows × 5 columns</p>\n",
       "</div>"
      ],
      "text/plain": [
       "    data  nid                                category  \\\n",
       "rid                                                     \n",
       "0     In    1                      demand extraction    \n",
       "1     In   20       Electricity Exchange - Capacities   \n",
       "2     In   33       Electricity Exchange - Capacities   \n",
       "3     In   31       Electricity Exchange - Capacities   \n",
       "4     In   43       Electricity Exchange - Capacities   \n",
       "5     In   45       Electricity Exchange - Capacities   \n",
       "6    Out   55           Electricity Exchange - Export   \n",
       "7    Out   68           Electricity Exchange - Export   \n",
       "8    Out   66           Electricity Exchange - Export   \n",
       "9    Out   69           Electricity Exchange - Export   \n",
       "10   Out   78           Electricity Exchange - Export   \n",
       "11   Out   80           Electricity Exchange - Export   \n",
       "12   Out   83           Electricity Exchange - Export   \n",
       "13   Out   23           Electricity Exchange - Import   \n",
       "14   Out   36           Electricity Exchange - Import   \n",
       "15   Out   34           Electricity Exchange - Import   \n",
       "16   Out   38           Electricity Exchange - Import   \n",
       "17   Out   46           Electricity Exchange - Import   \n",
       "18   Out   48           Electricity Exchange - Import   \n",
       "19   Out   51           Electricity Exchange - Import   \n",
       "20   Out   87  Electricity Exchange - Net interchange   \n",
       "21   Out  100  Electricity Exchange - Net interchange   \n",
       "22   Out   98  Electricity Exchange - Net interchange   \n",
       "23   Out  102  Electricity Exchange - Net interchange   \n",
       "24   Out  110  Electricity Exchange - Net interchange   \n",
       "25   Out  112  Electricity Exchange - Net interchange   \n",
       "26   Out  115  Electricity Exchange - Net interchange   \n",
       "27   Out   11                 Electricity Generation    \n",
       "28   Out   10                 Electricity Generation    \n",
       "29   Out    4                 Electricity Generation    \n",
       "..   ...  ...                                     ...   \n",
       "44   Out  116                        Fuel Consumption   \n",
       "45   Out  117                        Fuel Consumption   \n",
       "46   Out  119                        Fuel Consumption   \n",
       "47   Out  120                        Fuel Consumption   \n",
       "48   Out  118                        Fuel Consumption   \n",
       "49    In   51                             Fuel prices   \n",
       "50    In   48                             Fuel prices   \n",
       "51    In   49                             Fuel prices   \n",
       "52    In   52                             Fuel prices   \n",
       "53    In   50                             Fuel prices   \n",
       "54    In    9         Installed Generation Capacities   \n",
       "55    In    8         Installed Generation Capacities   \n",
       "56    In    2         Installed Generation Capacities   \n",
       "57    In   16         Installed Generation Capacities   \n",
       "58    In   13         Installed Generation Capacities   \n",
       "59    In   10         Installed Generation Capacities   \n",
       "60    In   15         Installed Generation Capacities   \n",
       "61    In    3         Installed Generation Capacities   \n",
       "62    In    5         Installed Generation Capacities   \n",
       "63    In    6         Installed Generation Capacities   \n",
       "64    In   14         Installed Generation Capacities   \n",
       "65    In    4         Installed Generation Capacities   \n",
       "66    In   12         Installed Generation Capacities   \n",
       "67    In    7         Installed Generation Capacities   \n",
       "68    In   11         Installed Generation Capacities   \n",
       "69   Out    1                                    Load   \n",
       "70   Out    2                                    Load   \n",
       "71   Out    3                                    Load   \n",
       "72   Out  122                                  Prices   \n",
       "73    In   53                                    None   \n",
       "\n",
       "                                       indicator  count  \n",
       "rid                                                      \n",
       "0                             Electricity Demand     10  \n",
       "1                                             BG      2  \n",
       "2                                             HR      4  \n",
       "3                                             HU      6  \n",
       "4                                             RO      4  \n",
       "5                                             SI      4  \n",
       "6                                             BG      2  \n",
       "7                                             HR      3  \n",
       "8                                             HU      7  \n",
       "9                                             IT      1  \n",
       "10                                            RO      4  \n",
       "11                                            SI      4  \n",
       "12                                  Total Export     10  \n",
       "13                                            BG      2  \n",
       "14                                            HR      4  \n",
       "15                                            HU      6  \n",
       "16                                            LT      1  \n",
       "17                                            RO      4  \n",
       "18                                            SI      4  \n",
       "19                                  Total Import     10  \n",
       "20                                            BG      2  \n",
       "21                                            HR      3  \n",
       "22                                            HU      7  \n",
       "23                                            LT      1  \n",
       "24                                            RO      4  \n",
       "25                                            SI      4  \n",
       "26                                Total Net flow     10  \n",
       "27                              Biogas / Biofuel     10  \n",
       "28                    Biomass solid / Waste ren.     10  \n",
       "29                                          Coal     10  \n",
       "..                                           ...    ...  \n",
       "44                                          Coal     10  \n",
       "45                                       Lignite     10  \n",
       "46                                   Natural Gas     10  \n",
       "47                                       Nuclear     10  \n",
       "48                                           Oil     10  \n",
       "49                                           Gas     10  \n",
       "50                                     Hard Coal     10  \n",
       "51                                       Lignite     10  \n",
       "52                                       Nuclear     10  \n",
       "53                                           Oil     10  \n",
       "54                              Biogas / Biofuel     10  \n",
       "55                    Biomass solid / Waste ren.     10  \n",
       "56                                          Coal     10  \n",
       "57                           Electricity Storage     10  \n",
       "58                                    Geothermal     10  \n",
       "59                                         Hydro     10  \n",
       "60                                      Hydrogen     10  \n",
       "61                                       Lignite     10  \n",
       "62                      Natural Gas / non renew.     10  \n",
       "63                                       Nuclear     10  \n",
       "64                                         Ocean     10  \n",
       "65                                           Oil     10  \n",
       "66                                         Solar     10  \n",
       "67   Waste non renewable + Industrial Waste Heat     10  \n",
       "68                                          Wind     10  \n",
       "69                                          Load     10  \n",
       "70                                    Pump Load      10  \n",
       "71                                    Total Load     10  \n",
       "72                             Electricity Price     10  \n",
       "73                                           CO2      5  \n",
       "\n",
       "[74 rows x 5 columns]"
      ]
     },
     "execution_count": 10,
     "metadata": {},
     "output_type": "execute_result"
    }
   ],
   "source": [
    "# Indicators\n",
    "column = 'nid,category,indicator' # id, pathway, version, region, year, indicator, category, value, unit\n",
    "sql = text(\"\"\"\n",
    "    SELECT  'In' AS data, {3}, count(*) AS count\n",
    "    FROM    {0}.{1}\n",
    "    GROUP BY {3} \n",
    "    UNION ALL \n",
    "    SELECT  'Out' AS data, {3}, count(*) AS count\n",
    "    FROM    {0}.{2}\n",
    "    GROUP BY {3}\n",
    "    ORDER BY category, indicator, nid; \"\"\".format(schema, table_in, table_out, column))\n",
    "df_ind = pd.read_sql_query(sql, con)\n",
    "df_ind.index.names = ['rid']\n",
    "df_ind"
   ]
  },
  {
   "cell_type": "code",
   "execution_count": 11,
   "metadata": {},
   "outputs": [
    {
     "name": "stdout",
     "output_type": "stream",
     "text": [
      "Data saved to file: data/plexos/reeem_plexos_indicators.csv\n"
     ]
    }
   ],
   "source": [
    "# Write data as CSV file\n",
    "csvname = 'data/{0}/reeem_{0}_indicators.csv'.format(folder)\n",
    "df_ind.to_csv(csvname, sep=';')\n",
    "print(\"Data saved to file:\", csvname)"
   ]
  },
  {
   "cell_type": "code",
   "execution_count": null,
   "metadata": {},
   "outputs": [],
   "source": []
  },
  {
   "cell_type": "markdown",
   "metadata": {},
   "source": [
    "## Table metadata\n",
    "\n",
    "Access the metadata from the database tables and write metadata string as JSON file.<br>"
   ]
  },
  {
   "cell_type": "code",
   "execution_count": 12,
   "metadata": {},
   "outputs": [
    {
     "name": "stdout",
     "output_type": "stream",
     "text": [
      "{\"title\": \"REEEM Plexos Input\",\n",
      "    \"description\": \"none\",\n",
      "    \"language\": [ \"eng\" ],\n",
      "    \"spatial\": \n",
      "        {\"location\": \"none\",\n",
      "        \"extent\": \"BG, HR, HU, RO, SI\",\n",
      "        \"resolution\": \"Country\"},\n",
      "    \"temporal\": \n",
      "        {\"reference_date\": \"2030\",\n",
      "        \"start\": \"none\",\n",
      "        \"end\": \"none\",\n",
      "        \"resolution\": \"none\"},\n",
      "    \"sources\": [\n",
      "        {\"name\": \"REEEM Times PanEU\", \n",
      "        \"description\": \"Energy Consumption, Installed Capacities, Electricity Production, Heat Production, Fuel Input, Emissions, Mobility, Electricity Exchange\", \n",
      "        \"url\": \"tba\", \n",
      "        \"license\": \"Open Data Commons Attribution License 1.0 (ODC-BY-1.0)\", \n",
      "        \"copyright\": \"© Institut für Energiewirtschaft und Rationelle Energieanwendung (IER) der Universität Stuttgart\"} ],\n",
      "    \"license\":\n",
      "        {\"id\": \"CC-BY-4.0\",\n",
      "        \"name\": \"Creative Commons Attribution 4.0 International\",\n",
      "        \"version\": \"4.0\",\n",
      "        \"url\": \"http://creativecommons.org/licenses/by/4.0/legalcode\",\n",
      "        \"instruction\": \"You are free: To Share, To Create, To Adapt; As long as you: Attribute!\",\n",
      "        \"copyright\": \"© Energy Institute Hrvoje Požar\"},\n",
      "    \"contributors\": [\n",
      "        {\"name\": \"Ludee\", \"email\": \"none\", \"date\": \"2017-11-20\", \"comment\": \"Create table\"},\n",
      "        {\"name\": \"Ludee\", \"email\": \"none\", \"date\": \"2018-10-29\", \"comment\": \"Update metadata\"} ],\n",
      "    \"resources\": [\n",
      "        {\"name\": \"model_draft.reeem_plexos_input\",\n",
      "        \"format\": \"PostgreSQL\",\n",
      "        \"fields\": [\n",
      "            {\"name\": \"id\", \"description\": \"Unique identifier\", \"unit\": \"none\"},\n",
      "            {\"name\": \"nid\", \"description\": \"Row id\", \"unit\": \"none\"},\n",
      "            {\"name\": \"dfid\", \"description\": \"Internal dataframe id\", \"unit\": \"none\"},\n",
      "            {\"name\": \"pathway\", \"description\": \"REEEM pathway\", \"unit\": \"none\"},\n",
      "            {\"name\": \"framework\", \"description\": \"REEEM framework\", \"unit\": \"none\"},\n",
      "            {\"name\": \"version\", \"description\": \"REEEM version\", \"unit\": \"none\"},\n",
      "            {\"name\": \"region\", \"description\": \"Country or region\", \"unit\": \"none\"},\n",
      "            {\"name\": \"year\", \"description\": \"Year\", \"unit\": \"none\"},\n",
      "            {\"name\": \"category\", \"description\": \"2. classification\", \"unit\": \"none\"},\n",
      "            {\"name\": \"indicator\", \"description\": \"Parameter name\", \"unit\": \"none\"},\n",
      "            {\"name\": \"value\", \"description\": \"Parameter value\", \"unit\": \"unit\"},\n",
      "            {\"name\": \"unit\", \"description\": \"Parameter unit\", \"unit\": \"none\"},\n",
      "            {\"name\": \"aggregation\", \"description\": \"True if aggregated\", \"unit\": \"none\"},\n",
      "            {\"name\": \"tags\", \"description\": \"Free classification\", \"unit\": \"none\"},\n",
      "            {\"name\": \"sources\", \"description\": \"Data source\", \"unit\": \"none\"} ] } ],\n",
      "    \"metadata_version\": \"1.3\"}\n",
      "Data saved to file: data/plexos/reeem_plexos_input_metadata.json\n"
     ]
    }
   ],
   "source": [
    "# Input Metadata\n",
    "sql = text(\"\"\"SELECT obj_description('{0}.{1}'::regclass);\"\"\".format(schema, table_in))\n",
    "meta_in = pd.read_sql_query(sql, con).loc[:,'obj_description'].iloc[0]\n",
    "print(meta_in)\n",
    "\n",
    "# Save data to JSON file\n",
    "fname_in = 'data/{0}/{1}_metadata.json'.format(folder, table_in)\n",
    "with open(fname_in, 'w') as metafile:\n",
    "    json.dump(json.loads(meta_in), metafile, indent=4)\n",
    "    print(\"Data saved to file:\", fname_in)"
   ]
  },
  {
   "cell_type": "code",
   "execution_count": 13,
   "metadata": {},
   "outputs": [
    {
     "name": "stdout",
     "output_type": "stream",
     "text": [
      "{\"title\": \"REEEM Plexos Input\",\n",
      "    \"description\": \"none\",\n",
      "    \"language\": [ \"eng\" ],\n",
      "    \"spatial\": \n",
      "        {\"location\": \"none\",\n",
      "        \"extent\": \"BG, HR, HU, RO, SI\",\n",
      "        \"resolution\": \"Country\"},\n",
      "    \"temporal\": \n",
      "        {\"reference_date\": \"2030\",\n",
      "        \"start\": \"none\",\n",
      "        \"end\": \"none\",\n",
      "        \"resolution\": \"none\"},\n",
      "    \"sources\": [\n",
      "        {\"name\": \"PLEXOS® Integrated Energy Model\", \n",
      "        \"description\": \"Optimization model for long, medium and short-term energy market analysis.\", \n",
      "        \"url\": \"https://openenergy-platform.org/factsheets/models/152/\", \n",
      "        \"license\": \"none\", \n",
      "        \"copyright\": \"none\"} ],\n",
      "    \"license\":\n",
      "        {\"id\": \"CC-BY-4.0\",\n",
      "        \"name\": \"Creative Commons Attribution 4.0 International\",\n",
      "        \"version\": \"4.0\",\n",
      "        \"url\": \"http://creativecommons.org/licenses/by/4.0/legalcode\",\n",
      "        \"instruction\": \"You are free: To Share, To Create, To Adapt; As long as you: Attribute!\",\n",
      "        \"copyright\": \"© Energy Institute Hrvoje Požar\"},\n",
      "    \"contributors\": [\n",
      "        {\"name\": \"Ludee\", \"email\": \"none\", \"date\": \"2017-11-20\", \"comment\": \"Create table\"},\n",
      "        {\"name\": \"Ludee\", \"email\": \"none\", \"date\": \"2018-10-29\", \"comment\": \"Update metadata and license\"} ],\n",
      "    \"resources\": [\n",
      "        {\"name\": \"model_draft.reeem_plexos_output\",\n",
      "        \"format\": \"PostgreSQL\",\n",
      "        \"fields\": [\n",
      "            {\"name\": \"id\", \"description\": \"Unique identifier\", \"unit\": \"none\"},\n",
      "            {\"name\": \"pathway\", \"description\": \"REEEM pathway\", \"unit\": \"none\"},\n",
      "            {\"name\": \"version\", \"description\": \"REEEM version\", \"unit\": \"none\"},\n",
      "            {\"name\": \"nid\", \"description\": \"Row id\", \"unit\": \"none\"},\n",
      "            {\"name\": \"dfid\", \"description\": \"Internal dataframe id\", \"unit\": \"none\"},\n",
      "            {\"name\": \"region\", \"description\": \"Country or region\", \"unit\": \"none\"},\n",
      "            {\"name\": \"schema\", \"description\": \"Database schema\", \"unit\": \"none\"},\n",
      "            {\"name\": \"field\", \"description\": \"Area or sector (1. level)\", \"unit\": \"none\"},\n",
      "            {\"name\": \"category\", \"description\": \"Group (2. level)\", \"unit\": \"none\"},\n",
      "            {\"name\": \"year\", \"description\": \"Year\", \"unit\": \"none\"},\n",
      "            {\"name\": \"indicator\", \"description\": \"Parameter (3. level)\", \"unit\": \"none\"},\n",
      "            {\"name\": \"value\", \"description\": \"Specific value\", \"unit\": \"unit\"},\n",
      "            {\"name\": \"unit\", \"description\": \"Unit\", \"unit\": \"none\"},\n",
      "            {\"name\": \"aggregation\", \"description\": \"True if aggregated\", \"unit\": \"none\"},\n",
      "            {\"name\": \"updated\", \"description\": \"Timestamp\", \"unit\": \"none\"},\n",
      "            {\"name\": \"sources\", \"description\": \"Data source\", \"unit\": \"none\"} ] } ],\n",
      "    \"metadata_version\": \"1.3\"}\n",
      "Data saved to file: data/plexos/reeem_plexos_output_metadata.json\n"
     ]
    }
   ],
   "source": [
    "# Output Metadata\n",
    "sql = text(\"\"\"SELECT obj_description('{0}.{1}'::regclass);\"\"\".format(schema, table_out))\n",
    "meta_out = pd.read_sql_query(sql, con).loc[:,'obj_description'].iloc[0]\n",
    "print(meta_out)\n",
    "\n",
    "# Save data to JSON file\n",
    "fname_out = 'data/{0}/{1}_metadata.json'.format(folder, table_out)\n",
    "with open(fname_out, 'w') as metafile:\n",
    "    json.dump(json.loads(meta_out), metafile, indent=4)\n",
    "    print(\"Data saved to file:\", fname_out)"
   ]
  },
  {
   "cell_type": "code",
   "execution_count": null,
   "metadata": {},
   "outputs": [],
   "source": []
  },
  {
   "cell_type": "markdown",
   "metadata": {},
   "source": [
    "# View 3: One indicator for all regions in one pathway over time"
   ]
  },
  {
   "cell_type": "markdown",
   "metadata": {},
   "source": [
    "## Database Query\n",
    "\n",
    "This section can be used to query one specific **indicator** for all regions from one database table (_table_).<br>\n",
    "Indicators are identified by the **nid** (_filter 1_).<br>\n",
    "Only **region** _EU28_ is excluded (_filter 2_).<br>\n",
    "It is possible to select one specific **pathway** (_filter 3_) and one specific data **version** (_filter 4_).<br>\n",
    "To querry additional coulmns from the database table add the names to the **SELECT** statement (_column_).<br>\n",
    "The sortation is done by the **ORDER BY** (_sorting_).<br>\n",
    "The result from the database is saved to a pandas.DataFrame (**df_3**) and can be printed."
   ]
  },
  {
   "cell_type": "code",
   "execution_count": 14,
   "metadata": {},
   "outputs": [],
   "source": [
    "# Database select (SQL)\n",
    "sql = text(\"\"\"\n",
    "    SELECT  pathway, version, region, year, nid, schema, category, indicator, value, unit  -- column\n",
    "    FROM    model_draft.reeem_plexos_input -- table\n",
    "    WHERE nid = 1                                 -- filter 1\n",
    "        AND pathway = 'Base'                      -- filter 2\n",
    "        AND version = 'DataV1'                    -- filter 3\n",
    "    ORDER BY pathway, version, region, year;      -- sorting \"\"\")\n",
    "df_3 = pd.read_sql_query(sql, con)\n",
    "#df_3"
   ]
  },
  {
   "cell_type": "markdown",
   "metadata": {},
   "source": [
    "## Metadata\n",
    "\n",
    "The important information from the above select (**df_3**) is collected in a Dictionary (**info_dict_3**)."
   ]
  },
  {
   "cell_type": "code",
   "execution_count": 15,
   "metadata": {},
   "outputs": [
    {
     "name": "stdout",
     "output_type": "stream",
     "text": [
      "Filename : ['2019-06-11_reeem_Plexos_allregions_Electricity Demand']\n",
      "Category : ['demand extraction ']\n",
      "Indicator : ['Electricity Demand']\n",
      "Unit : ['TWh']\n",
      "Pathway : ['Base']\n",
      "Year : [2030]\n",
      "Region : ['BG' 'HR' 'HU' 'RO' 'SI']\n",
      "Y-Axis : ['Electricity Demand in TWh']\n",
      "Title : ['demand extraction  in all regions']\n",
      "Metadata : {\"title\": \"REEEM Plexos Input\",\n",
      "    \"description\": \"none\",\n",
      "    \"language\": [ \"eng\" ],\n",
      "    \"spatial\": \n",
      "        {\"location\": \"none\",\n",
      "        \"extent\": \"BG, HR, HU, RO, SI\",\n",
      "        \"resolution\": \"Country\"},\n",
      "    \"temporal\": \n",
      "        {\"reference_date\": \"2030\",\n",
      "        \"start\": \"none\",\n",
      "        \"end\": \"none\",\n",
      "        \"resolution\": \"none\"},\n",
      "    \"sources\": [\n",
      "        {\"name\": \"REEEM Times PanEU\", \n",
      "        \"description\": \"Energy Consumption, Installed Capacities, Electricity Production, Heat Production, Fuel Input, Emissions, Mobility, Electricity Exchange\", \n",
      "        \"url\": \"tba\", \n",
      "        \"license\": \"Open Data Commons Attribution License 1.0 (ODC-BY-1.0)\", \n",
      "        \"copyright\": \"© Institut für Energiewirtschaft und Rationelle Energieanwendung (IER) der Universität Stuttgart\"} ],\n",
      "    \"license\":\n",
      "        {\"id\": \"CC-BY-4.0\",\n",
      "        \"name\": \"Creative Commons Attribution 4.0 International\",\n",
      "        \"version\": \"4.0\",\n",
      "        \"url\": \"http://creativecommons.org/licenses/by/4.0/legalcode\",\n",
      "        \"instruction\": \"You are free: To Share, To Create, To Adapt; As long as you: Attribute!\",\n",
      "        \"copyright\": \"© Energy Institute Hrvoje Požar\"},\n",
      "    \"contributors\": [\n",
      "        {\"name\": \"Ludee\", \"email\": \"none\", \"date\": \"2017-11-20\", \"comment\": \"Create table\"},\n",
      "        {\"name\": \"Ludee\", \"email\": \"none\", \"date\": \"2018-10-29\", \"comment\": \"Update metadata\"} ],\n",
      "    \"resources\": [\n",
      "        {\"name\": \"model_draft.reeem_plexos_input\",\n",
      "        \"format\": \"PostgreSQL\",\n",
      "        \"fields\": [\n",
      "            {\"name\": \"id\", \"description\": \"Unique identifier\", \"unit\": \"none\"},\n",
      "            {\"name\": \"nid\", \"description\": \"Row id\", \"unit\": \"none\"},\n",
      "            {\"name\": \"dfid\", \"description\": \"Internal dataframe id\", \"unit\": \"none\"},\n",
      "            {\"name\": \"pathway\", \"description\": \"REEEM pathway\", \"unit\": \"none\"},\n",
      "            {\"name\": \"framework\", \"description\": \"REEEM framework\", \"unit\": \"none\"},\n",
      "            {\"name\": \"version\", \"description\": \"REEEM version\", \"unit\": \"none\"},\n",
      "            {\"name\": \"region\", \"description\": \"Country or region\", \"unit\": \"none\"},\n",
      "            {\"name\": \"year\", \"description\": \"Year\", \"unit\": \"none\"},\n",
      "            {\"name\": \"category\", \"description\": \"2. classification\", \"unit\": \"none\"},\n",
      "            {\"name\": \"indicator\", \"description\": \"Parameter name\", \"unit\": \"none\"},\n",
      "            {\"name\": \"value\", \"description\": \"Parameter value\", \"unit\": \"unit\"},\n",
      "            {\"name\": \"unit\", \"description\": \"Parameter unit\", \"unit\": \"none\"},\n",
      "            {\"name\": \"aggregation\", \"description\": \"True if aggregated\", \"unit\": \"none\"},\n",
      "            {\"name\": \"tags\", \"description\": \"Free classification\", \"unit\": \"none\"},\n",
      "            {\"name\": \"sources\", \"description\": \"Data source\", \"unit\": \"none\"} ] } ],\n",
      "    \"metadata_version\": \"1.3\"}\n"
     ]
    }
   ],
   "source": [
    "# Facts dict\n",
    "info_dict_3 = {}\n",
    "info_dict_3['Filename'] = ['{0}_reeem_Plexos_allregions_{1}' .format(\n",
    "    pd.to_datetime('today').strftime(\"%Y-%m-%d\"),\n",
    "    df_3.loc[:,'indicator'].unique()[0])]\n",
    "info_dict_3['Category'] = df_3.loc[:,'category'].unique()\n",
    "info_dict_3['Indicator'] = df_3.loc[:,'indicator'].unique()\n",
    "info_dict_3['Unit'] = df_3.loc[:,'unit'].unique()\n",
    "info_dict_3['Pathway'] = df_3.loc[:,'pathway'].unique()\n",
    "info_dict_3['Year'] = df_3.loc[:,'year'].unique().tolist()\n",
    "info_dict_3['Region'] = df_3.loc[:,'region'].unique()\n",
    "info_dict_3['Y-Axis'] = ['{} in {}'.format(*info_dict_3['Indicator'], *info_dict_3['Unit'])]\n",
    "info_dict_3['Title'] = ['{} in all regions'.format(*info_dict_3['Category'])]\n",
    "info_dict_3['Metadata'] = meta_in\n",
    "\n",
    "# Print facts\n",
    "for x in info_dict_3:\n",
    "    print(x,':',info_dict_3[x])"
   ]
  },
  {
   "cell_type": "markdown",
   "metadata": {},
   "source": [
    "## Stack data\n",
    "\n",
    "This pivot function reorganises the data and makes each pathway a column. The year is used as the index.<br>\n",
    "The result is saved to a new dataframe (**df_3p**) and can be printed."
   ]
  },
  {
   "cell_type": "code",
   "execution_count": 16,
   "metadata": {},
   "outputs": [],
   "source": [
    "# Reshape dataframe\n",
    "df_3p = df_3.pivot(index='region', columns='indicator',  values='value')\n",
    "#df_3p"
   ]
  },
  {
   "cell_type": "markdown",
   "metadata": {},
   "source": [
    "## Plot\n",
    "\n",
    "This is a basic plot with [matplotlib](https://matplotlib.org/).<br>\n",
    "The title and y-axis labels are taken from the **info_dict_3**. They can be exchanged with manual text."
   ]
  },
  {
   "cell_type": "code",
   "execution_count": 17,
   "metadata": {},
   "outputs": [
    {
     "data": {
      "text/plain": [
       "(0, 53.59574977950043)"
      ]
     },
     "execution_count": 17,
     "metadata": {},
     "output_type": "execute_result"
    },
    {
     "data": {
      "image/png": "[encoded data removed]",
      "text/plain": [
       "<Figure size 864x720 with 1 Axes>"
      ]
     },
     "metadata": {},
     "output_type": "display_data"
    }
   ],
   "source": [
    "# Plot for one indicator and one pathway\n",
    "fig = plt.figure(figsize=(12, 10))\n",
    "ax = plt.subplot()\n",
    "# plt.title(r'CO2-Emissions in all regions', fontsize=16)  # Manual title\n",
    "plt.title(*info_dict_3['Title'], fontsize=16)         # Title from info\n",
    "# plt.ylabel(r'CO2-Emissions in Mt')                # Manual label\n",
    "plt.ylabel(*info_dict_3['Y-Axis'])                    # Label from info\n",
    "plt.plot(df_3p, \n",
    "         marker=\"o\",  markersize=5)\n",
    "plt.legend(df_3p)\n",
    "ax.set_ylim(ymin=0)"
   ]
  },
  {
   "cell_type": "markdown",
   "metadata": {},
   "source": [
    "## Interactive Plot\n",
    "\n",
    "This is a basic interactive plot with [Plotly](https://plot.ly/python/).<br>\n",
    "You can hover over the elements of the plot and observe the data.<br>\n",
    "The different pathways can be switched on and off."
   ]
  },
  {
   "cell_type": "code",
   "execution_count": 18,
   "metadata": {},
   "outputs": [
    {
     "data": {
      "application/vnd.plotly.v1+json": {
       "data": [
        {
         "name": "BG",
         "type": "scatter",
         "x": [
          "BG"
         ],
         "y": [
          29.0430005399997
         ]
        },
        {
         "name": "HR",
         "type": "scatter",
         "x": [
          "HR"
         ],
         "y": [
          12.9029999999999
         ]
        },
        {
         "name": "HU",
         "type": "scatter",
         "x": [
          "HU"
         ],
         "y": [
          42.1950009999792
         ]
        },
        {
         "name": "RO",
         "type": "scatter",
         "x": [
          "RO"
         ],
         "y": [
          51.6579997900004
         ]
        },
        {
         "name": "SI",
         "type": "scatter",
         "x": [
          "SI"
         ],
         "y": [
          14.1769999999944
         ]
        }
       ],
       "layout": {
        "height": 800,
        "title": "demand extraction  in all regions",
        "width": 800,
        "yaxis": {
         "title": "Electricity Demand in TWh"
        }
       }
      },
      "text/html": [
       "<div id=\"27f88c75-42ef-4766-8c41-3cc0aa0cf430\" style=\"height: 800px; width: 800px;\" class=\"plotly-graph-div\"></div><script type=\"text/javascript\">require([\"plotly\"], function(Plotly) { window.PLOTLYENV=window.PLOTLYENV || {};window.PLOTLYENV.BASE_URL=\"https://plot.ly\";Plotly.newPlot(\"27f88c75-42ef-4766-8c41-3cc0aa0cf430\", [{\"type\": \"scatter\", \"x\": [\"BG\"], \"y\": [29.0430005399997], \"name\": \"BG\"}, {\"type\": \"scatter\", \"x\": [\"HR\"], \"y\": [12.9029999999999], \"name\": \"HR\"}, {\"type\": \"scatter\", \"x\": [\"HU\"], \"y\": [42.1950009999792], \"name\": \"HU\"}, {\"type\": \"scatter\", \"x\": [\"RO\"], \"y\": [51.6579997900004], \"name\": \"RO\"}, {\"type\": \"scatter\", \"x\": [\"SI\"], \"y\": [14.1769999999944], \"name\": \"SI\"}], {\"height\": 800, \"width\": 800, \"title\": \"demand extraction  in all regions\", \"yaxis\": {\"title\": \"Electricity Demand in TWh\"}}, {\"showLink\": true, \"linkText\": \"Export to plot.ly\"})});</script>"
      ],
      "text/vnd.plotly.v1+html": [
       "<div id=\"27f88c75-42ef-4766-8c41-3cc0aa0cf430\" style=\"height: 800px; width: 800px;\" class=\"plotly-graph-div\"></div><script type=\"text/javascript\">require([\"plotly\"], function(Plotly) { window.PLOTLYENV=window.PLOTLYENV || {};window.PLOTLYENV.BASE_URL=\"https://plot.ly\";Plotly.newPlot(\"27f88c75-42ef-4766-8c41-3cc0aa0cf430\", [{\"type\": \"scatter\", \"x\": [\"BG\"], \"y\": [29.0430005399997], \"name\": \"BG\"}, {\"type\": \"scatter\", \"x\": [\"HR\"], \"y\": [12.9029999999999], \"name\": \"HR\"}, {\"type\": \"scatter\", \"x\": [\"HU\"], \"y\": [42.1950009999792], \"name\": \"HU\"}, {\"type\": \"scatter\", \"x\": [\"RO\"], \"y\": [51.6579997900004], \"name\": \"RO\"}, {\"type\": \"scatter\", \"x\": [\"SI\"], \"y\": [14.1769999999944], \"name\": \"SI\"}], {\"height\": 800, \"width\": 800, \"title\": \"demand extraction  in all regions\", \"yaxis\": {\"title\": \"Electricity Demand in TWh\"}}, {\"showLink\": true, \"linkText\": \"Export to plot.ly\"})});</script>"
      ]
     },
     "metadata": {},
     "output_type": "display_data"
    }
   ],
   "source": [
    "# Iterate over pathways and add to data\n",
    "regions = df_3.loc[:,'region'].unique()\n",
    "data = []\n",
    "for region in regions:\n",
    "    data.append(go.Scatter(\n",
    "        x = df_3.loc[df_3['region'] == region].loc[:,'region'],\n",
    "        y = df_3.loc[df_3['region'] == region].loc[:,'value'],\n",
    "        name = region))\n",
    "\n",
    "# Set layout\n",
    "layout = go.Layout(\n",
    "    height=800, width = 800,\n",
    "    #title='CO2-Emissions in EU28',\n",
    "    title=''.join(info_dict_3['Title']),\n",
    "    # yaxis=dict(title='CO2-Emissions in Mt') )\n",
    "    yaxis=dict(title=''.join(info_dict_3['Y-Axis'])) )\n",
    "ifig = go.Figure(data=data, layout=layout)\n",
    "pltly.iplot(ifig)"
   ]
  },
  {
   "cell_type": "markdown",
   "metadata": {},
   "source": [
    "## Save results to files\n",
    "\n",
    "The results are saved to cooresponding files in a folder named **data**.<br>\n",
    "The **info_dict** is saved to a text file (txt).<br>\n",
    "The **data** is saved to a table (csv).<br>\n",
    "The **plot** is saved as an image (png).<br>\n",
    "The **interactive plot** is saved as a webpage (html). It will also open in a new tab of your browser.<br>"
   ]
  },
  {
   "cell_type": "code",
   "execution_count": 19,
   "metadata": {},
   "outputs": [
    {
     "name": "stdout",
     "output_type": "stream",
     "text": [
      "Facts saved to file: data/2019-06-11_reeem_Plexos_allregions_Electricity Demand.txt\n",
      "Data saved to file: data/2019-06-11_reeem_Plexos_allregions_Electricity Demand.csv\n",
      "Data saved to file: data/2019-06-11_reeem_Plexos_allregions_Electricity Demand_pivot.csv\n",
      "Plot saved to file: data/2019-06-11_reeem_Plexos_allregions_Electricity Demand.png\n",
      "Interactive plot saved to file: data/2019-06-11_reeem_Plexos_allregions_Electricity Demand.html\n"
     ]
    }
   ],
   "source": [
    "# Write facts to textfile\n",
    "filename = ('data/{}.txt').format(*info_dict_3['Filename'])\n",
    "with open(filename,'w') as tfile:\n",
    "    for i in info_dict_3.keys():\n",
    "        tfile.write(i + \": \" + ', '.join([str(x) for x in info_dict_3[i]]) + \"\\n\")\n",
    "tfile.close()\n",
    "print(\"Facts saved to file:\", filename)\n",
    "\n",
    "# Save data to CSV\n",
    "csvname = 'data/{}.csv' .format(*info_dict_3['Filename'])\n",
    "df_3.to_csv(csvname, sep=';')\n",
    "print(\"Data saved to file:\", csvname)\n",
    "\n",
    "# Save pivot data to CSV\n",
    "csvname = 'data/{}_pivot.csv' .format(*info_dict_3['Filename'])\n",
    "df_3p.to_csv(csvname, sep=';')\n",
    "print(\"Data saved to file:\", csvname)\n",
    "\n",
    "# Save plot as file\n",
    "plotname = 'data/{}.png' .format(*info_dict_3['Filename'])\n",
    "fig.savefig(plotname, bbox_inches='tight')\n",
    "print(\"Plot saved to file:\", plotname)\n",
    "\n",
    "# Save interactive plot\n",
    "htmlname = 'data/{}.html' .format(*info_dict_3['Filename'])\n",
    "pltly.plot(ifig, filename=htmlname)\n",
    "print(\"Interactive plot saved to file:\", htmlname)"
   ]
  },
  {
   "cell_type": "code",
   "execution_count": null,
   "metadata": {},
   "outputs": [],
   "source": []
  },
  {
   "cell_type": "markdown",
   "metadata": {},
   "source": [
    "# View 4: All indicators for one region in one pathway over time"
   ]
  },
  {
   "cell_type": "markdown",
   "metadata": {},
   "source": [
    "## Database Query\n",
    "\n",
    "This section can be used to query all **indicators** for one **region** (_filter 2_) from one database table (_table_).<br>\n",
    "Indicators are identified by the **nid**.<br>\n",
    "It is possible to select one specific **pathway** (_filter 3_) and one specific data **version** (_filter 4_).<br>\n",
    "To querry additional coulmns from the database table add the names to the **SELECT** statement (_column_).<br>\n",
    "The sortation is done by the **ORDER BY** (_sorting_).<br>\n",
    "The result from the database is saved to a pandas.DataFrame (**df_4**) and can be printed."
   ]
  },
  {
   "cell_type": "code",
   "execution_count": 20,
   "metadata": {},
   "outputs": [],
   "source": [
    "# Database select (SQL)\n",
    "sql = text(\"\"\"\n",
    "    SELECT  pathway, version, region, year, nid, indicator, category, value, unit  -- column\n",
    "    FROM    model_draft.reeem_plexos_input\n",
    "    WHERE   category = 'Installed Generation Capacities'\n",
    "        AND region = 'BG'\n",
    "        AND pathway = 'Base'\n",
    "        AND version = 'DataV1'\n",
    "    ORDER BY pathway, version, year, region, nid; \"\"\")\n",
    "df_4 = pd.read_sql_query(sql, con)\n",
    "#print(df_4)"
   ]
  },
  {
   "cell_type": "markdown",
   "metadata": {},
   "source": [
    "## Metadata\n",
    "\n",
    "The important information from the above select (**df_4**) is collected in a Dictionary (**info_dict_4**)."
   ]
  },
  {
   "cell_type": "code",
   "execution_count": 22,
   "metadata": {},
   "outputs": [
    {
     "name": "stdout",
     "output_type": "stream",
     "text": [
      "Filename : ['2019-06-11_reeem_Plexos_allindicators_BG']\n",
      "Category : ['Installed Generation Capacities']\n",
      "Indicator : ['Coal' 'Lignite' 'Oil' 'Natural Gas / non renew.' 'Nuclear'\n",
      " 'Waste non renewable + Industrial Waste Heat'\n",
      " 'Biomass solid / Waste ren.' 'Biogas / Biofuel' 'Hydro' 'Wind' 'Solar'\n",
      " 'Geothermal' 'Ocean' 'Hydrogen' 'Electricity Storage']\n",
      "Unit : ['MW']\n",
      "Pathway : ['Base']\n",
      "Year : [2030]\n",
      "Region : ['BG']\n",
      "Y-Axis : ['Installed Generation Capacities in MW']\n",
      "Title : ['Installed Generation Capacities in region BG']\n",
      "Metadata : {\"title\": \"REEEM Plexos Input\",\n",
      "    \"description\": \"none\",\n",
      "    \"language\": [ \"eng\" ],\n",
      "    \"spatial\": \n",
      "        {\"location\": \"none\",\n",
      "        \"extent\": \"BG, HR, HU, RO, SI\",\n",
      "        \"resolution\": \"Country\"},\n",
      "    \"temporal\": \n",
      "        {\"reference_date\": \"2030\",\n",
      "        \"start\": \"none\",\n",
      "        \"end\": \"none\",\n",
      "        \"resolution\": \"none\"},\n",
      "    \"sources\": [\n",
      "        {\"name\": \"REEEM Times PanEU\", \n",
      "        \"description\": \"Energy Consumption, Installed Capacities, Electricity Production, Heat Production, Fuel Input, Emissions, Mobility, Electricity Exchange\", \n",
      "        \"url\": \"tba\", \n",
      "        \"license\": \"Open Data Commons Attribution License 1.0 (ODC-BY-1.0)\", \n",
      "        \"copyright\": \"© Institut für Energiewirtschaft und Rationelle Energieanwendung (IER) der Universität Stuttgart\"} ],\n",
      "    \"license\":\n",
      "        {\"id\": \"CC-BY-4.0\",\n",
      "        \"name\": \"Creative Commons Attribution 4.0 International\",\n",
      "        \"version\": \"4.0\",\n",
      "        \"url\": \"http://creativecommons.org/licenses/by/4.0/legalcode\",\n",
      "        \"instruction\": \"You are free: To Share, To Create, To Adapt; As long as you: Attribute!\",\n",
      "        \"copyright\": \"© Energy Institute Hrvoje Požar\"},\n",
      "    \"contributors\": [\n",
      "        {\"name\": \"Ludee\", \"email\": \"none\", \"date\": \"2017-11-20\", \"comment\": \"Create table\"},\n",
      "        {\"name\": \"Ludee\", \"email\": \"none\", \"date\": \"2018-10-29\", \"comment\": \"Update metadata\"} ],\n",
      "    \"resources\": [\n",
      "        {\"name\": \"model_draft.reeem_plexos_input\",\n",
      "        \"format\": \"PostgreSQL\",\n",
      "        \"fields\": [\n",
      "            {\"name\": \"id\", \"description\": \"Unique identifier\", \"unit\": \"none\"},\n",
      "            {\"name\": \"nid\", \"description\": \"Row id\", \"unit\": \"none\"},\n",
      "            {\"name\": \"dfid\", \"description\": \"Internal dataframe id\", \"unit\": \"none\"},\n",
      "            {\"name\": \"pathway\", \"description\": \"REEEM pathway\", \"unit\": \"none\"},\n",
      "            {\"name\": \"framework\", \"description\": \"REEEM framework\", \"unit\": \"none\"},\n",
      "            {\"name\": \"version\", \"description\": \"REEEM version\", \"unit\": \"none\"},\n",
      "            {\"name\": \"region\", \"description\": \"Country or region\", \"unit\": \"none\"},\n",
      "            {\"name\": \"year\", \"description\": \"Year\", \"unit\": \"none\"},\n",
      "            {\"name\": \"category\", \"description\": \"2. classification\", \"unit\": \"none\"},\n",
      "            {\"name\": \"indicator\", \"description\": \"Parameter name\", \"unit\": \"none\"},\n",
      "            {\"name\": \"value\", \"description\": \"Parameter value\", \"unit\": \"unit\"},\n",
      "            {\"name\": \"unit\", \"description\": \"Parameter unit\", \"unit\": \"none\"},\n",
      "            {\"name\": \"aggregation\", \"description\": \"True if aggregated\", \"unit\": \"none\"},\n",
      "            {\"name\": \"tags\", \"description\": \"Free classification\", \"unit\": \"none\"},\n",
      "            {\"name\": \"sources\", \"description\": \"Data source\", \"unit\": \"none\"} ] } ],\n",
      "    \"metadata_version\": \"1.3\"}\n"
     ]
    }
   ],
   "source": [
    "# Facts dict\n",
    "info_dict_4 = {}\n",
    "info_dict_4['Filename'] = ['{0}_reeem_Plexos_allindicators_{1}' .format(\n",
    "    pd.to_datetime('today').strftime(\"%Y-%m-%d\"),\n",
    "    df_4.loc[:,'region'].unique()[0])]\n",
    "info_dict_4['Category'] = df_4.loc[:,'category'].unique()\n",
    "info_dict_4['Indicator'] = df_4.loc[:,'indicator'].unique()\n",
    "info_dict_4['Unit'] = df_4.loc[:,'unit'].unique()\n",
    "info_dict_4['Pathway'] = df_4.loc[:,'pathway'].unique()\n",
    "info_dict_4['Year'] = df_4.loc[:,'year'].unique().tolist()\n",
    "info_dict_4['Region'] = df_4.loc[:,'region'].unique()\n",
    "info_dict_4['Y-Axis'] = ['{} in {}'.format(*info_dict_4['Category'],*info_dict_4['Unit'])]\n",
    "info_dict_4['Title'] = ['{} in region {}'.format(*info_dict_4['Category'],*info_dict_4['Region'])]\n",
    "info_dict_4['Metadata'] = meta_in\n",
    "\n",
    "# Print facts\n",
    "for x in info_dict_4:\n",
    "    print(x,':',info_dict_4[x])"
   ]
  },
  {
   "cell_type": "markdown",
   "metadata": {},
   "source": [
    "## Stack data\n",
    "\n",
    "This pivot function reorganises the data and makes each year a column. The indicator is used as the index.<br>\n",
    "The result is saved to a new dataframe (**df_4p**) and can be printed."
   ]
  },
  {
   "cell_type": "code",
   "execution_count": 23,
   "metadata": {},
   "outputs": [],
   "source": [
    "# Reshape dataframe\n",
    "df_4p = df_4.pivot(index='indicator', columns='region',  values='value')\n",
    "#df_4p"
   ]
  },
  {
   "cell_type": "markdown",
   "metadata": {},
   "source": [
    "## Plot\n",
    "\n",
    "This is a basic plot with [matplotlib](https://matplotlib.org/).<br>\n",
    "The title and y-axis labels are taken from the **info_dict_4**. They can be exchanged with manual text."
   ]
  },
  {
   "cell_type": "code",
   "execution_count": 24,
   "metadata": {},
   "outputs": [
    {
     "data": {
      "text/plain": [
       "(0, 4833.276)"
      ]
     },
     "execution_count": 24,
     "metadata": {},
     "output_type": "execute_result"
    },
    {
     "data": {
      "image/png": "[encoded data removed]",
      "text/plain": [
       "<Figure size 864x720 with 1 Axes>"
      ]
     },
     "metadata": {},
     "output_type": "display_data"
    }
   ],
   "source": [
    "# Plot for one indicator and one pathway\n",
    "fig = plt.figure(figsize=(12, 10))\n",
    "ax = plt.subplot()\n",
    "# plt.title(r'All indicators in region {}', fontsize=16)   # Manual title\n",
    "plt.title(*info_dict_4['Title'], fontsize=16)         # Title from info\n",
    "# plt.ylabel(r'CO2-Emissions in Mt')                # Manual label\n",
    "plt.ylabel(*info_dict_4['Y-Axis'])                    # Label from info\n",
    "plt.plot(df_4p, \n",
    "         marker=\"o\",  markersize=5)\n",
    "plt.legend(df_4p)\n",
    "ax.set_ylim(ymin=0)"
   ]
  },
  {
   "cell_type": "markdown",
   "metadata": {},
   "source": [
    "## Interactive Plot\n",
    "\n",
    "This is a basic interactive plot with [Plotly](https://plot.ly/python/).<br>\n",
    "You can hover over the elements of the plot and observe the data.<br>\n",
    "The different pathways can be switched on and off."
   ]
  },
  {
   "cell_type": "code",
   "execution_count": 25,
   "metadata": {},
   "outputs": [
    {
     "data": {
      "application/vnd.plotly.v1+json": {
       "data": [
        {
         "name": "Coal",
         "type": "scatter",
         "x": [
          "BG"
         ],
         "y": [
          1304.3
         ]
        },
        {
         "name": "Lignite",
         "type": "scatter",
         "x": [
          "BG"
         ],
         "y": [
          1633.22
         ]
        },
        {
         "name": "Oil",
         "type": "scatter",
         "x": [
          "BG"
         ],
         "y": [
          82.22
         ]
        },
        {
         "name": "Natural Gas / non renew.",
         "type": "scatter",
         "x": [
          "BG"
         ],
         "y": [
          1053.1
         ]
        },
        {
         "name": "Nuclear",
         "type": "scatter",
         "x": [
          "BG"
         ],
         "y": [
          953
         ]
        },
        {
         "name": "Waste non renewable + Industrial Waste Heat",
         "type": "scatter",
         "x": [
          "BG"
         ],
         "y": [
          102.675
         ]
        },
        {
         "name": "Biomass solid / Waste ren.",
         "type": "scatter",
         "x": [
          "BG"
         ],
         "y": [
          178.83
         ]
        },
        {
         "name": "Biogas / Biofuel",
         "type": "scatter",
         "x": [
          "BG"
         ],
         "y": [
          1588.495
         ]
        },
        {
         "name": "Hydro",
         "type": "scatter",
         "x": [
          "BG"
         ],
         "y": [
          4603.12
         ]
        },
        {
         "name": "Wind",
         "type": "scatter",
         "x": [
          "BG"
         ],
         "y": [
          3034.49
         ]
        },
        {
         "name": "Solar",
         "type": "scatter",
         "x": [
          "BG"
         ],
         "y": [
          1255.6
         ]
        },
        {
         "name": "Geothermal",
         "type": "scatter",
         "x": [
          "BG"
         ],
         "y": [
          0.108
         ]
        },
        {
         "name": "Ocean",
         "type": "scatter",
         "x": [
          "BG"
         ],
         "y": [
          0
         ]
        },
        {
         "name": "Hydrogen",
         "type": "scatter",
         "x": [
          "BG"
         ],
         "y": [
          82.92
         ]
        },
        {
         "name": "Electricity Storage",
         "type": "scatter",
         "x": [
          "BG"
         ],
         "y": [
          1.79
         ]
        }
       ],
       "layout": {
        "height": 800,
        "title": "Installed Generation Capacities in region BG",
        "width": 800,
        "yaxis": {
         "title": "Installed Generation Capacities in MW"
        }
       }
      },
      "text/html": [
       "<div id=\"f84690ae-0f4f-4785-abf5-d5d617331953\" style=\"height: 800px; width: 800px;\" class=\"plotly-graph-div\"></div><script type=\"text/javascript\">require([\"plotly\"], function(Plotly) { window.PLOTLYENV=window.PLOTLYENV || {};window.PLOTLYENV.BASE_URL=\"https://plot.ly\";Plotly.newPlot(\"f84690ae-0f4f-4785-abf5-d5d617331953\", [{\"type\": \"scatter\", \"x\": [\"BG\"], \"y\": [1304.3], \"name\": \"Coal\"}, {\"type\": \"scatter\", \"x\": [\"BG\"], \"y\": [1633.22], \"name\": \"Lignite\"}, {\"type\": \"scatter\", \"x\": [\"BG\"], \"y\": [82.22], \"name\": \"Oil\"}, {\"type\": \"scatter\", \"x\": [\"BG\"], \"y\": [1053.1], \"name\": \"Natural Gas / non renew.\"}, {\"type\": \"scatter\", \"x\": [\"BG\"], \"y\": [953.0], \"name\": \"Nuclear\"}, {\"type\": \"scatter\", \"x\": [\"BG\"], \"y\": [102.675], \"name\": \"Waste non renewable + Industrial Waste Heat\"}, {\"type\": \"scatter\", \"x\": [\"BG\"], \"y\": [178.83], \"name\": \"Biomass solid / Waste ren.\"}, {\"type\": \"scatter\", \"x\": [\"BG\"], \"y\": [1588.495], \"name\": \"Biogas / Biofuel\"}, {\"type\": \"scatter\", \"x\": [\"BG\"], \"y\": [4603.12], \"name\": \"Hydro\"}, {\"type\": \"scatter\", \"x\": [\"BG\"], \"y\": [3034.49], \"name\": \"Wind\"}, {\"type\": \"scatter\", \"x\": [\"BG\"], \"y\": [1255.6], \"name\": \"Solar\"}, {\"type\": \"scatter\", \"x\": [\"BG\"], \"y\": [0.108], \"name\": \"Geothermal\"}, {\"type\": \"scatter\", \"x\": [\"BG\"], \"y\": [0.0], \"name\": \"Ocean\"}, {\"type\": \"scatter\", \"x\": [\"BG\"], \"y\": [82.92], \"name\": \"Hydrogen\"}, {\"type\": \"scatter\", \"x\": [\"BG\"], \"y\": [1.79], \"name\": \"Electricity Storage\"}], {\"height\": 800, \"width\": 800, \"title\": \"Installed Generation Capacities in region BG\", \"yaxis\": {\"title\": \"Installed Generation Capacities in MW\"}}, {\"showLink\": true, \"linkText\": \"Export to plot.ly\"})});</script>"
      ],
      "text/vnd.plotly.v1+html": [
       "<div id=\"f84690ae-0f4f-4785-abf5-d5d617331953\" style=\"height: 800px; width: 800px;\" class=\"plotly-graph-div\"></div><script type=\"text/javascript\">require([\"plotly\"], function(Plotly) { window.PLOTLYENV=window.PLOTLYENV || {};window.PLOTLYENV.BASE_URL=\"https://plot.ly\";Plotly.newPlot(\"f84690ae-0f4f-4785-abf5-d5d617331953\", [{\"type\": \"scatter\", \"x\": [\"BG\"], \"y\": [1304.3], \"name\": \"Coal\"}, {\"type\": \"scatter\", \"x\": [\"BG\"], \"y\": [1633.22], \"name\": \"Lignite\"}, {\"type\": \"scatter\", \"x\": [\"BG\"], \"y\": [82.22], \"name\": \"Oil\"}, {\"type\": \"scatter\", \"x\": [\"BG\"], \"y\": [1053.1], \"name\": \"Natural Gas / non renew.\"}, {\"type\": \"scatter\", \"x\": [\"BG\"], \"y\": [953.0], \"name\": \"Nuclear\"}, {\"type\": \"scatter\", \"x\": [\"BG\"], \"y\": [102.675], \"name\": \"Waste non renewable + Industrial Waste Heat\"}, {\"type\": \"scatter\", \"x\": [\"BG\"], \"y\": [178.83], \"name\": \"Biomass solid / Waste ren.\"}, {\"type\": \"scatter\", \"x\": [\"BG\"], \"y\": [1588.495], \"name\": \"Biogas / Biofuel\"}, {\"type\": \"scatter\", \"x\": [\"BG\"], \"y\": [4603.12], \"name\": \"Hydro\"}, {\"type\": \"scatter\", \"x\": [\"BG\"], \"y\": [3034.49], \"name\": \"Wind\"}, {\"type\": \"scatter\", \"x\": [\"BG\"], \"y\": [1255.6], \"name\": \"Solar\"}, {\"type\": \"scatter\", \"x\": [\"BG\"], \"y\": [0.108], \"name\": \"Geothermal\"}, {\"type\": \"scatter\", \"x\": [\"BG\"], \"y\": [0.0], \"name\": \"Ocean\"}, {\"type\": \"scatter\", \"x\": [\"BG\"], \"y\": [82.92], \"name\": \"Hydrogen\"}, {\"type\": \"scatter\", \"x\": [\"BG\"], \"y\": [1.79], \"name\": \"Electricity Storage\"}], {\"height\": 800, \"width\": 800, \"title\": \"Installed Generation Capacities in region BG\", \"yaxis\": {\"title\": \"Installed Generation Capacities in MW\"}}, {\"showLink\": true, \"linkText\": \"Export to plot.ly\"})});</script>"
      ]
     },
     "metadata": {},
     "output_type": "display_data"
    }
   ],
   "source": [
    "# Iterate over pathways and add to data\n",
    "indicators = df_4.loc[:,'indicator'].unique()\n",
    "data = []\n",
    "for indicator in indicators:\n",
    "    data.append(go.Scatter(\n",
    "        x = df_4.loc[df_4['indicator'] == indicator].loc[:,'region'],\n",
    "        y = df_4.loc[df_4['indicator'] == indicator].loc[:,'value'],\n",
    "        name = indicator))\n",
    "\n",
    "# Set layout\n",
    "layout = go.Layout(\n",
    "    height=800, width = 800,\n",
    "    #title='CO2-Emissions in EU28',\n",
    "    title=''.join(info_dict_4['Title']),\n",
    "    # yaxis=dict(title='CO2-Emissions in Mt') )\n",
    "    yaxis=dict(title=''.join(info_dict_4['Y-Axis'])) )\n",
    "ifig = go.Figure(data=data, layout=layout)\n",
    "pltly.iplot(ifig)"
   ]
  },
  {
   "cell_type": "markdown",
   "metadata": {},
   "source": [
    "## Save results to files\n",
    "\n",
    "The results are saved to cooresponding files in a folder named **data**.<br>\n",
    "The **info_dict** is saved to a text file (txt).<br>\n",
    "The **data** is saved to a table (csv).<br>\n",
    "The **plot** is saved as an image (png).<br>\n",
    "The **interactive plot** is saved as a webpage (html). It will also open in a new tab of your browser.<br>"
   ]
  },
  {
   "cell_type": "code",
   "execution_count": 26,
   "metadata": {},
   "outputs": [
    {
     "name": "stdout",
     "output_type": "stream",
     "text": [
      "Facts saved to file: data/2019-06-11_reeem_Plexos_allindicators_BG.txt\n",
      "Data saved to file: data/2019-06-11_reeem_Plexos_allindicators_BG.csv\n",
      "Data saved to file: data/2019-06-11_reeem_Plexos_allindicators_BG_pivot.csv\n",
      "Plot saved to file: data/2019-06-11_reeem_Plexos_allindicators_BG.png\n",
      "Interactive plot saved to file: data/2019-06-11_reeem_Plexos_allindicators_BG.html\n"
     ]
    }
   ],
   "source": [
    "# Write facts to textfile\n",
    "filename = ('data/{}.txt').format(*info_dict_4['Filename'])\n",
    "with open(filename,'w') as tfile:\n",
    "    for i in info_dict_4.keys():\n",
    "        tfile.write(i + \": \" + ', '.join([str(x) for x in info_dict_4[i]]) + \"\\n\")\n",
    "tfile.close()\n",
    "print(\"Facts saved to file:\", filename)\n",
    "\n",
    "# Save data to CSV\n",
    "csvname = 'data/{}.csv' .format(*info_dict_4['Filename'])\n",
    "df_4.to_csv(csvname, sep=';')\n",
    "print(\"Data saved to file:\", csvname)\n",
    "\n",
    "# Save pivot data to CSV\n",
    "csvname = 'data/{}_pivot.csv' .format(*info_dict_4['Filename'])\n",
    "df_4p.to_csv(csvname, sep=';')\n",
    "print(\"Data saved to file:\", csvname)\n",
    "\n",
    "# Save plot as file\n",
    "plotname = 'data/{}.png' .format(*info_dict_4['Filename'])\n",
    "fig.savefig(plotname, bbox_inches='tight')\n",
    "print(\"Plot saved to file:\", plotname)\n",
    "\n",
    "# Save interactive plot\n",
    "htmlname = 'data/{}.html' .format(*info_dict_4['Filename'])\n",
    "pltly.plot(ifig, filename=htmlname)\n",
    "print(\"Interactive plot saved to file:\", htmlname)"
   ]
  },
  {
   "cell_type": "code",
   "execution_count": null,
   "metadata": {},
   "outputs": [],
   "source": []
  }
 ],
 "metadata": {
  "kernelspec": {
   "display_name": "Python 3",
   "language": "python",
   "name": "python3"
  },
  "language_info": {
   "codemirror_mode": {
    "name": "ipython",
    "version": 3
   },
   "file_extension": ".py",
   "mimetype": "text/x-python",
   "name": "python",
   "nbconvert_exporter": "python",
   "pygments_lexer": "ipython3",
   "version": "3.6.5"
  }
 },
 "nbformat": 4,
 "nbformat_minor": 2
}
